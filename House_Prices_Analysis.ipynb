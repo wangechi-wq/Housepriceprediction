{
  "nbformat": 4,
  "nbformat_minor": 0,
  "metadata": {
    "colab": {
      "name": "House Prices Analysis.ipynb",
      "provenance": [],
      "collapsed_sections": [],
      "toc_visible": true,
      "authorship_tag": "ABX9TyNQTf//jDu4hKyEB8F2UNmq",
      "include_colab_link": true
    },
    "kernelspec": {
      "name": "python3",
      "display_name": "Python 3"
    },
    "language_info": {
      "name": "python"
    }
  },
  "cells": [
    {
      "cell_type": "markdown",
      "metadata": {
        "id": "view-in-github",
        "colab_type": "text"
      },
      "source": [
        "<a href=\"https://colab.research.google.com/github/wangechi-wq/Housepriceprediction/blob/main/House_Prices_Analysis.ipynb\" target=\"_parent\"><img src=\"https://colab.research.google.com/assets/colab-badge.svg\" alt=\"Open In Colab\"/></a>"
      ]
    },
    {
      "cell_type": "markdown",
      "source": [
        "# 1.Defining the Question"
      ],
      "metadata": {
        "id": "zUY8M_IoJdWb"
      }
    },
    {
      "cell_type": "markdown",
      "source": [
        "## a) Specifying the Question"
      ],
      "metadata": {
        "id": "bCweycxcJf2i"
      }
    },
    {
      "cell_type": "markdown",
      "source": [
        "Studying the factors that affect housing prices using the given information on real estate properties that was collected over the past few months.Afterwards, create a model that would allow the company to accurately predict the sale of prices upon being provided with the predictor variables. "
      ],
      "metadata": {
        "id": "_JwXiv3dKF0-"
      }
    },
    {
      "cell_type": "markdown",
      "source": [
        "## b) Defining the Metric for Success"
      ],
      "metadata": {
        "id": "p4_ADqaLJgmP"
      }
    },
    {
      "cell_type": "markdown",
      "source": [
        "Creating and determining the model that will give the most accurate prediction for the prices of the houses."
      ],
      "metadata": {
        "id": "MJ4hmlbFKpq1"
      }
    },
    {
      "cell_type": "markdown",
      "source": [
        "## c) Understanding the context"
      ],
      "metadata": {
        "id": "huebi5VZJf5b"
      }
    },
    {
      "cell_type": "markdown",
      "source": [
        "Hass real estate company would like to identifying the factors that influence the prices of houses which is vital for the company. This will help the company know which properties customers look at most when purchasing a house."
      ],
      "metadata": {
        "id": "YLf6FKR_K5tl"
      }
    },
    {
      "cell_type": "markdown",
      "source": [
        "## d) Recording the Experimental Design"
      ],
      "metadata": {
        "id": "GTVmRZ0tJf9V"
      }
    },
    {
      "cell_type": "markdown",
      "source": [
        "The following are the experimental design i took in order to complete this project:\n",
        "\n",
        "1. Importing all the necessary libraries\n",
        "2. Loading the dataset\n",
        "3. Reading, cleaning the dataset\n",
        "Performing:\n",
        "4. Exploratory Data Analysis\n",
        "5. Multiple Linear Regression\n",
        "6. Quantile Regression\n",
        "7. Ridge Regression\n",
        "8. Lasso Regression\n",
        "9. Elastic Net Regression"
      ],
      "metadata": {
        "id": "hBqpf6yiLxkH"
      }
    },
    {
      "cell_type": "markdown",
      "source": [
        "## e) Data Relevance"
      ],
      "metadata": {
        "id": "OdPNzpThM6Eb"
      }
    },
    {
      "cell_type": "markdown",
      "source": [
        "# 2.Reading the Data"
      ],
      "metadata": {
        "id": "6WnzVk7tNCvE"
      }
    },
    {
      "cell_type": "code",
      "source": [
        "#importing libraries\n",
        "\n",
        "import numpy as np\n",
        "import pandas as pd\n",
        "import matplotlib.pyplot as plt\n",
        "import seaborn as sns\n",
        "import scipy.stats as stats\n",
        "import warnings\n",
        "warnings.filterwarnings('ignore')"
      ],
      "metadata": {
        "id": "ZAAGoE98NIjo"
      },
      "execution_count": null,
      "outputs": []
    },
    {
      "cell_type": "code",
      "source": [
        "#loading data\n",
        "housing = pd.read_csv(\"http://bit.ly/IndependentProjectWeek7Dataset\")\n",
        "#Previewing the top of the dataset\n",
        "housing.head(3)"
      ],
      "metadata": {
        "colab": {
          "base_uri": "https://localhost:8080/",
          "height": 207
        },
        "id": "slfcsmVvNJT5",
        "outputId": "5dc0ff36-0469-4f51-c5d5-b9d7c74ad9e4"
      },
      "execution_count": null,
      "outputs": [
        {
          "output_type": "execute_result",
          "data": {
            "text/html": [
              "\n",
              "  <div id=\"df-ce1f12dd-a493-44d9-9488-a7e6b6cff981\">\n",
              "    <div class=\"colab-df-container\">\n",
              "      <div>\n",
              "<style scoped>\n",
              "    .dataframe tbody tr th:only-of-type {\n",
              "        vertical-align: middle;\n",
              "    }\n",
              "\n",
              "    .dataframe tbody tr th {\n",
              "        vertical-align: top;\n",
              "    }\n",
              "\n",
              "    .dataframe thead th {\n",
              "        text-align: right;\n",
              "    }\n",
              "</style>\n",
              "<table border=\"1\" class=\"dataframe\">\n",
              "  <thead>\n",
              "    <tr style=\"text-align: right;\">\n",
              "      <th></th>\n",
              "      <th>id</th>\n",
              "      <th>price</th>\n",
              "      <th>bedrooms</th>\n",
              "      <th>bathrooms</th>\n",
              "      <th>sqft_living</th>\n",
              "      <th>sqft_lot</th>\n",
              "      <th>floors</th>\n",
              "      <th>waterfront</th>\n",
              "      <th>view</th>\n",
              "      <th>condition</th>\n",
              "      <th>grade</th>\n",
              "      <th>sqft_above</th>\n",
              "      <th>sqft_basement</th>\n",
              "      <th>yr_built</th>\n",
              "      <th>yr_renovated</th>\n",
              "      <th>zipcode</th>\n",
              "      <th>lat</th>\n",
              "      <th>long</th>\n",
              "      <th>sqft_living15</th>\n",
              "      <th>sqft_lot15</th>\n",
              "    </tr>\n",
              "  </thead>\n",
              "  <tbody>\n",
              "    <tr>\n",
              "      <th>0</th>\n",
              "      <td>7129300520</td>\n",
              "      <td>221900.0</td>\n",
              "      <td>3</td>\n",
              "      <td>1.00</td>\n",
              "      <td>1180</td>\n",
              "      <td>5650</td>\n",
              "      <td>1.0</td>\n",
              "      <td>0</td>\n",
              "      <td>0</td>\n",
              "      <td>3</td>\n",
              "      <td>7</td>\n",
              "      <td>1180</td>\n",
              "      <td>0</td>\n",
              "      <td>1955</td>\n",
              "      <td>0</td>\n",
              "      <td>98178</td>\n",
              "      <td>47.5112</td>\n",
              "      <td>-122.257</td>\n",
              "      <td>1340</td>\n",
              "      <td>5650</td>\n",
              "    </tr>\n",
              "    <tr>\n",
              "      <th>1</th>\n",
              "      <td>6414100192</td>\n",
              "      <td>538000.0</td>\n",
              "      <td>3</td>\n",
              "      <td>2.25</td>\n",
              "      <td>2570</td>\n",
              "      <td>7242</td>\n",
              "      <td>2.0</td>\n",
              "      <td>0</td>\n",
              "      <td>0</td>\n",
              "      <td>3</td>\n",
              "      <td>7</td>\n",
              "      <td>2170</td>\n",
              "      <td>400</td>\n",
              "      <td>1951</td>\n",
              "      <td>1991</td>\n",
              "      <td>98125</td>\n",
              "      <td>47.7210</td>\n",
              "      <td>-122.319</td>\n",
              "      <td>1690</td>\n",
              "      <td>7639</td>\n",
              "    </tr>\n",
              "    <tr>\n",
              "      <th>2</th>\n",
              "      <td>5631500400</td>\n",
              "      <td>180000.0</td>\n",
              "      <td>2</td>\n",
              "      <td>1.00</td>\n",
              "      <td>770</td>\n",
              "      <td>10000</td>\n",
              "      <td>1.0</td>\n",
              "      <td>0</td>\n",
              "      <td>0</td>\n",
              "      <td>3</td>\n",
              "      <td>6</td>\n",
              "      <td>770</td>\n",
              "      <td>0</td>\n",
              "      <td>1933</td>\n",
              "      <td>0</td>\n",
              "      <td>98028</td>\n",
              "      <td>47.7379</td>\n",
              "      <td>-122.233</td>\n",
              "      <td>2720</td>\n",
              "      <td>8062</td>\n",
              "    </tr>\n",
              "  </tbody>\n",
              "</table>\n",
              "</div>\n",
              "      <button class=\"colab-df-convert\" onclick=\"convertToInteractive('df-ce1f12dd-a493-44d9-9488-a7e6b6cff981')\"\n",
              "              title=\"Convert this dataframe to an interactive table.\"\n",
              "              style=\"display:none;\">\n",
              "        \n",
              "  <svg xmlns=\"http://www.w3.org/2000/svg\" height=\"24px\"viewBox=\"0 0 24 24\"\n",
              "       width=\"24px\">\n",
              "    <path d=\"M0 0h24v24H0V0z\" fill=\"none\"/>\n",
              "    <path d=\"M18.56 5.44l.94 2.06.94-2.06 2.06-.94-2.06-.94-.94-2.06-.94 2.06-2.06.94zm-11 1L8.5 8.5l.94-2.06 2.06-.94-2.06-.94L8.5 2.5l-.94 2.06-2.06.94zm10 10l.94 2.06.94-2.06 2.06-.94-2.06-.94-.94-2.06-.94 2.06-2.06.94z\"/><path d=\"M17.41 7.96l-1.37-1.37c-.4-.4-.92-.59-1.43-.59-.52 0-1.04.2-1.43.59L10.3 9.45l-7.72 7.72c-.78.78-.78 2.05 0 2.83L4 21.41c.39.39.9.59 1.41.59.51 0 1.02-.2 1.41-.59l7.78-7.78 2.81-2.81c.8-.78.8-2.07 0-2.86zM5.41 20L4 18.59l7.72-7.72 1.47 1.35L5.41 20z\"/>\n",
              "  </svg>\n",
              "      </button>\n",
              "      \n",
              "  <style>\n",
              "    .colab-df-container {\n",
              "      display:flex;\n",
              "      flex-wrap:wrap;\n",
              "      gap: 12px;\n",
              "    }\n",
              "\n",
              "    .colab-df-convert {\n",
              "      background-color: #E8F0FE;\n",
              "      border: none;\n",
              "      border-radius: 50%;\n",
              "      cursor: pointer;\n",
              "      display: none;\n",
              "      fill: #1967D2;\n",
              "      height: 32px;\n",
              "      padding: 0 0 0 0;\n",
              "      width: 32px;\n",
              "    }\n",
              "\n",
              "    .colab-df-convert:hover {\n",
              "      background-color: #E2EBFA;\n",
              "      box-shadow: 0px 1px 2px rgba(60, 64, 67, 0.3), 0px 1px 3px 1px rgba(60, 64, 67, 0.15);\n",
              "      fill: #174EA6;\n",
              "    }\n",
              "\n",
              "    [theme=dark] .colab-df-convert {\n",
              "      background-color: #3B4455;\n",
              "      fill: #D2E3FC;\n",
              "    }\n",
              "\n",
              "    [theme=dark] .colab-df-convert:hover {\n",
              "      background-color: #434B5C;\n",
              "      box-shadow: 0px 1px 3px 1px rgba(0, 0, 0, 0.15);\n",
              "      filter: drop-shadow(0px 1px 2px rgba(0, 0, 0, 0.3));\n",
              "      fill: #FFFFFF;\n",
              "    }\n",
              "  </style>\n",
              "\n",
              "      <script>\n",
              "        const buttonEl =\n",
              "          document.querySelector('#df-ce1f12dd-a493-44d9-9488-a7e6b6cff981 button.colab-df-convert');\n",
              "        buttonEl.style.display =\n",
              "          google.colab.kernel.accessAllowed ? 'block' : 'none';\n",
              "\n",
              "        async function convertToInteractive(key) {\n",
              "          const element = document.querySelector('#df-ce1f12dd-a493-44d9-9488-a7e6b6cff981');\n",
              "          const dataTable =\n",
              "            await google.colab.kernel.invokeFunction('convertToInteractive',\n",
              "                                                     [key], {});\n",
              "          if (!dataTable) return;\n",
              "\n",
              "          const docLinkHtml = 'Like what you see? Visit the ' +\n",
              "            '<a target=\"_blank\" href=https://colab.research.google.com/notebooks/data_table.ipynb>data table notebook</a>'\n",
              "            + ' to learn more about interactive tables.';\n",
              "          element.innerHTML = '';\n",
              "          dataTable['output_type'] = 'display_data';\n",
              "          await google.colab.output.renderOutput(dataTable, element);\n",
              "          const docLink = document.createElement('div');\n",
              "          docLink.innerHTML = docLinkHtml;\n",
              "          element.appendChild(docLink);\n",
              "        }\n",
              "      </script>\n",
              "    </div>\n",
              "  </div>\n",
              "  "
            ],
            "text/plain": [
              "           id     price  bedrooms  ...     long  sqft_living15  sqft_lot15\n",
              "0  7129300520  221900.0         3  ... -122.257           1340        5650\n",
              "1  6414100192  538000.0         3  ... -122.319           1690        7639\n",
              "2  5631500400  180000.0         2  ... -122.233           2720        8062\n",
              "\n",
              "[3 rows x 20 columns]"
            ]
          },
          "metadata": {},
          "execution_count": 3
        }
      ]
    },
    {
      "cell_type": "code",
      "source": [
        "#Previewing the bottom of the dataset\n",
        "housing.tail(3)"
      ],
      "metadata": {
        "colab": {
          "base_uri": "https://localhost:8080/",
          "height": 207
        },
        "id": "8kyJkUOJNJCL",
        "outputId": "fcdc4e20-bd49-4781-e310-ba351919cb70"
      },
      "execution_count": null,
      "outputs": [
        {
          "output_type": "execute_result",
          "data": {
            "text/html": [
              "\n",
              "  <div id=\"df-1c0c9818-b543-47c6-8f8c-dd3f5906f4f5\">\n",
              "    <div class=\"colab-df-container\">\n",
              "      <div>\n",
              "<style scoped>\n",
              "    .dataframe tbody tr th:only-of-type {\n",
              "        vertical-align: middle;\n",
              "    }\n",
              "\n",
              "    .dataframe tbody tr th {\n",
              "        vertical-align: top;\n",
              "    }\n",
              "\n",
              "    .dataframe thead th {\n",
              "        text-align: right;\n",
              "    }\n",
              "</style>\n",
              "<table border=\"1\" class=\"dataframe\">\n",
              "  <thead>\n",
              "    <tr style=\"text-align: right;\">\n",
              "      <th></th>\n",
              "      <th>id</th>\n",
              "      <th>price</th>\n",
              "      <th>bedrooms</th>\n",
              "      <th>bathrooms</th>\n",
              "      <th>sqft_living</th>\n",
              "      <th>sqft_lot</th>\n",
              "      <th>floors</th>\n",
              "      <th>waterfront</th>\n",
              "      <th>view</th>\n",
              "      <th>condition</th>\n",
              "      <th>grade</th>\n",
              "      <th>sqft_above</th>\n",
              "      <th>sqft_basement</th>\n",
              "      <th>yr_built</th>\n",
              "      <th>yr_renovated</th>\n",
              "      <th>zipcode</th>\n",
              "      <th>lat</th>\n",
              "      <th>long</th>\n",
              "      <th>sqft_living15</th>\n",
              "      <th>sqft_lot15</th>\n",
              "    </tr>\n",
              "  </thead>\n",
              "  <tbody>\n",
              "    <tr>\n",
              "      <th>21610</th>\n",
              "      <td>1523300141</td>\n",
              "      <td>402101.0</td>\n",
              "      <td>2</td>\n",
              "      <td>0.75</td>\n",
              "      <td>1020</td>\n",
              "      <td>1350</td>\n",
              "      <td>2.0</td>\n",
              "      <td>0</td>\n",
              "      <td>0</td>\n",
              "      <td>3</td>\n",
              "      <td>7</td>\n",
              "      <td>1020</td>\n",
              "      <td>0</td>\n",
              "      <td>2009</td>\n",
              "      <td>0</td>\n",
              "      <td>98144</td>\n",
              "      <td>47.5944</td>\n",
              "      <td>-122.299</td>\n",
              "      <td>1020</td>\n",
              "      <td>2007</td>\n",
              "    </tr>\n",
              "    <tr>\n",
              "      <th>21611</th>\n",
              "      <td>291310100</td>\n",
              "      <td>400000.0</td>\n",
              "      <td>3</td>\n",
              "      <td>2.50</td>\n",
              "      <td>1600</td>\n",
              "      <td>2388</td>\n",
              "      <td>2.0</td>\n",
              "      <td>0</td>\n",
              "      <td>0</td>\n",
              "      <td>3</td>\n",
              "      <td>8</td>\n",
              "      <td>1600</td>\n",
              "      <td>0</td>\n",
              "      <td>2004</td>\n",
              "      <td>0</td>\n",
              "      <td>98027</td>\n",
              "      <td>47.5345</td>\n",
              "      <td>-122.069</td>\n",
              "      <td>1410</td>\n",
              "      <td>1287</td>\n",
              "    </tr>\n",
              "    <tr>\n",
              "      <th>21612</th>\n",
              "      <td>1523300157</td>\n",
              "      <td>325000.0</td>\n",
              "      <td>2</td>\n",
              "      <td>0.75</td>\n",
              "      <td>1020</td>\n",
              "      <td>1076</td>\n",
              "      <td>2.0</td>\n",
              "      <td>0</td>\n",
              "      <td>0</td>\n",
              "      <td>3</td>\n",
              "      <td>7</td>\n",
              "      <td>1020</td>\n",
              "      <td>0</td>\n",
              "      <td>2008</td>\n",
              "      <td>0</td>\n",
              "      <td>98144</td>\n",
              "      <td>47.5941</td>\n",
              "      <td>-122.299</td>\n",
              "      <td>1020</td>\n",
              "      <td>1357</td>\n",
              "    </tr>\n",
              "  </tbody>\n",
              "</table>\n",
              "</div>\n",
              "      <button class=\"colab-df-convert\" onclick=\"convertToInteractive('df-1c0c9818-b543-47c6-8f8c-dd3f5906f4f5')\"\n",
              "              title=\"Convert this dataframe to an interactive table.\"\n",
              "              style=\"display:none;\">\n",
              "        \n",
              "  <svg xmlns=\"http://www.w3.org/2000/svg\" height=\"24px\"viewBox=\"0 0 24 24\"\n",
              "       width=\"24px\">\n",
              "    <path d=\"M0 0h24v24H0V0z\" fill=\"none\"/>\n",
              "    <path d=\"M18.56 5.44l.94 2.06.94-2.06 2.06-.94-2.06-.94-.94-2.06-.94 2.06-2.06.94zm-11 1L8.5 8.5l.94-2.06 2.06-.94-2.06-.94L8.5 2.5l-.94 2.06-2.06.94zm10 10l.94 2.06.94-2.06 2.06-.94-2.06-.94-.94-2.06-.94 2.06-2.06.94z\"/><path d=\"M17.41 7.96l-1.37-1.37c-.4-.4-.92-.59-1.43-.59-.52 0-1.04.2-1.43.59L10.3 9.45l-7.72 7.72c-.78.78-.78 2.05 0 2.83L4 21.41c.39.39.9.59 1.41.59.51 0 1.02-.2 1.41-.59l7.78-7.78 2.81-2.81c.8-.78.8-2.07 0-2.86zM5.41 20L4 18.59l7.72-7.72 1.47 1.35L5.41 20z\"/>\n",
              "  </svg>\n",
              "      </button>\n",
              "      \n",
              "  <style>\n",
              "    .colab-df-container {\n",
              "      display:flex;\n",
              "      flex-wrap:wrap;\n",
              "      gap: 12px;\n",
              "    }\n",
              "\n",
              "    .colab-df-convert {\n",
              "      background-color: #E8F0FE;\n",
              "      border: none;\n",
              "      border-radius: 50%;\n",
              "      cursor: pointer;\n",
              "      display: none;\n",
              "      fill: #1967D2;\n",
              "      height: 32px;\n",
              "      padding: 0 0 0 0;\n",
              "      width: 32px;\n",
              "    }\n",
              "\n",
              "    .colab-df-convert:hover {\n",
              "      background-color: #E2EBFA;\n",
              "      box-shadow: 0px 1px 2px rgba(60, 64, 67, 0.3), 0px 1px 3px 1px rgba(60, 64, 67, 0.15);\n",
              "      fill: #174EA6;\n",
              "    }\n",
              "\n",
              "    [theme=dark] .colab-df-convert {\n",
              "      background-color: #3B4455;\n",
              "      fill: #D2E3FC;\n",
              "    }\n",
              "\n",
              "    [theme=dark] .colab-df-convert:hover {\n",
              "      background-color: #434B5C;\n",
              "      box-shadow: 0px 1px 3px 1px rgba(0, 0, 0, 0.15);\n",
              "      filter: drop-shadow(0px 1px 2px rgba(0, 0, 0, 0.3));\n",
              "      fill: #FFFFFF;\n",
              "    }\n",
              "  </style>\n",
              "\n",
              "      <script>\n",
              "        const buttonEl =\n",
              "          document.querySelector('#df-1c0c9818-b543-47c6-8f8c-dd3f5906f4f5 button.colab-df-convert');\n",
              "        buttonEl.style.display =\n",
              "          google.colab.kernel.accessAllowed ? 'block' : 'none';\n",
              "\n",
              "        async function convertToInteractive(key) {\n",
              "          const element = document.querySelector('#df-1c0c9818-b543-47c6-8f8c-dd3f5906f4f5');\n",
              "          const dataTable =\n",
              "            await google.colab.kernel.invokeFunction('convertToInteractive',\n",
              "                                                     [key], {});\n",
              "          if (!dataTable) return;\n",
              "\n",
              "          const docLinkHtml = 'Like what you see? Visit the ' +\n",
              "            '<a target=\"_blank\" href=https://colab.research.google.com/notebooks/data_table.ipynb>data table notebook</a>'\n",
              "            + ' to learn more about interactive tables.';\n",
              "          element.innerHTML = '';\n",
              "          dataTable['output_type'] = 'display_data';\n",
              "          await google.colab.output.renderOutput(dataTable, element);\n",
              "          const docLink = document.createElement('div');\n",
              "          docLink.innerHTML = docLinkHtml;\n",
              "          element.appendChild(docLink);\n",
              "        }\n",
              "      </script>\n",
              "    </div>\n",
              "  </div>\n",
              "  "
            ],
            "text/plain": [
              "               id     price  bedrooms  ...     long  sqft_living15  sqft_lot15\n",
              "21610  1523300141  402101.0         2  ... -122.299           1020        2007\n",
              "21611   291310100  400000.0         3  ... -122.069           1410        1287\n",
              "21612  1523300157  325000.0         2  ... -122.299           1020        1357\n",
              "\n",
              "[3 rows x 20 columns]"
            ]
          },
          "metadata": {},
          "execution_count": 4
        }
      ]
    },
    {
      "cell_type": "markdown",
      "source": [
        "# 3.Checking the Data"
      ],
      "metadata": {
        "id": "Afy_ETs-PZkD"
      }
    },
    {
      "cell_type": "code",
      "source": [
        "housing.shape"
      ],
      "metadata": {
        "colab": {
          "base_uri": "https://localhost:8080/"
        },
        "id": "Dn0PCoWoPNuM",
        "outputId": "b205287f-6174-4352-cb95-7a05dbeb3e0e"
      },
      "execution_count": null,
      "outputs": [
        {
          "output_type": "execute_result",
          "data": {
            "text/plain": [
              "(21613, 20)"
            ]
          },
          "metadata": {},
          "execution_count": 5
        }
      ]
    },
    {
      "cell_type": "markdown",
      "source": [
        "The dataset contains 21613 rows and 20 columns"
      ],
      "metadata": {
        "id": "OIOGhP0aPjz9"
      }
    },
    {
      "cell_type": "code",
      "source": [
        "#checking the datatypes\n",
        "housing.dtypes"
      ],
      "metadata": {
        "colab": {
          "base_uri": "https://localhost:8080/"
        },
        "id": "qulW_EjsPNr7",
        "outputId": "614ed5bd-6ce5-4bfb-f8cb-85b2cc3eff77"
      },
      "execution_count": null,
      "outputs": [
        {
          "output_type": "execute_result",
          "data": {
            "text/plain": [
              "id                 int64\n",
              "price            float64\n",
              "bedrooms           int64\n",
              "bathrooms        float64\n",
              "sqft_living        int64\n",
              "sqft_lot           int64\n",
              "floors           float64\n",
              "waterfront         int64\n",
              "view               int64\n",
              "condition          int64\n",
              "grade              int64\n",
              "sqft_above         int64\n",
              "sqft_basement      int64\n",
              "yr_built           int64\n",
              "yr_renovated       int64\n",
              "zipcode            int64\n",
              "lat              float64\n",
              "long             float64\n",
              "sqft_living15      int64\n",
              "sqft_lot15         int64\n",
              "dtype: object"
            ]
          },
          "metadata": {},
          "execution_count": 6
        }
      ]
    },
    {
      "cell_type": "code",
      "source": [
        "housing.info()"
      ],
      "metadata": {
        "colab": {
          "base_uri": "https://localhost:8080/"
        },
        "id": "8-m3pj2FPNi9",
        "outputId": "b6bf95fa-c834-42f1-e3c5-c391a876cd2b"
      },
      "execution_count": null,
      "outputs": [
        {
          "output_type": "stream",
          "name": "stdout",
          "text": [
            "<class 'pandas.core.frame.DataFrame'>\n",
            "RangeIndex: 21613 entries, 0 to 21612\n",
            "Data columns (total 20 columns):\n",
            " #   Column         Non-Null Count  Dtype  \n",
            "---  ------         --------------  -----  \n",
            " 0   id             21613 non-null  int64  \n",
            " 1   price          21613 non-null  float64\n",
            " 2   bedrooms       21613 non-null  int64  \n",
            " 3   bathrooms      21613 non-null  float64\n",
            " 4   sqft_living    21613 non-null  int64  \n",
            " 5   sqft_lot       21613 non-null  int64  \n",
            " 6   floors         21613 non-null  float64\n",
            " 7   waterfront     21613 non-null  int64  \n",
            " 8   view           21613 non-null  int64  \n",
            " 9   condition      21613 non-null  int64  \n",
            " 10  grade          21613 non-null  int64  \n",
            " 11  sqft_above     21613 non-null  int64  \n",
            " 12  sqft_basement  21613 non-null  int64  \n",
            " 13  yr_built       21613 non-null  int64  \n",
            " 14  yr_renovated   21613 non-null  int64  \n",
            " 15  zipcode        21613 non-null  int64  \n",
            " 16  lat            21613 non-null  float64\n",
            " 17  long           21613 non-null  float64\n",
            " 18  sqft_living15  21613 non-null  int64  \n",
            " 19  sqft_lot15     21613 non-null  int64  \n",
            "dtypes: float64(5), int64(15)\n",
            "memory usage: 3.3 MB\n"
          ]
        }
      ]
    },
    {
      "cell_type": "code",
      "source": [
        "# Identifying the Missing Data\n",
        "#\n",
        "housing.isnull().sum()\n"
      ],
      "metadata": {
        "colab": {
          "base_uri": "https://localhost:8080/"
        },
        "id": "zZ0QRkFrPNoq",
        "outputId": "6f22617d-448d-4239-f42a-238a0b18e6aa"
      },
      "execution_count": null,
      "outputs": [
        {
          "output_type": "execute_result",
          "data": {
            "text/plain": [
              "id               0\n",
              "price            0\n",
              "bedrooms         0\n",
              "bathrooms        0\n",
              "sqft_living      0\n",
              "sqft_lot         0\n",
              "floors           0\n",
              "waterfront       0\n",
              "view             0\n",
              "condition        0\n",
              "grade            0\n",
              "sqft_above       0\n",
              "sqft_basement    0\n",
              "yr_built         0\n",
              "yr_renovated     0\n",
              "zipcode          0\n",
              "lat              0\n",
              "long             0\n",
              "sqft_living15    0\n",
              "sqft_lot15       0\n",
              "dtype: int64"
            ]
          },
          "metadata": {},
          "execution_count": 8
        }
      ]
    },
    {
      "cell_type": "code",
      "source": [
        "#checking for duplicates in the fifa dataset\n",
        "housing.duplicated().sum()"
      ],
      "metadata": {
        "colab": {
          "base_uri": "https://localhost:8080/"
        },
        "id": "SdpLooYTPNgQ",
        "outputId": "b280a432-be5f-4402-b468-4302fe98861f"
      },
      "execution_count": null,
      "outputs": [
        {
          "output_type": "execute_result",
          "data": {
            "text/plain": [
              "3"
            ]
          },
          "metadata": {},
          "execution_count": 9
        }
      ]
    },
    {
      "cell_type": "markdown",
      "source": [
        "There some 3 duplicates that should be dropped during data cleaning."
      ],
      "metadata": {
        "id": "o7rhv7_5U1Ib"
      }
    },
    {
      "cell_type": "markdown",
      "source": [
        "# 5.Data Cleaning"
      ],
      "metadata": {
        "id": "HyloTCgLSwld"
      }
    },
    {
      "cell_type": "code",
      "source": [
        "#dropping duplicates\n",
        "housing.drop_duplicates(subset = None, keep = 'first', inplace = True)\n",
        "housing.shape"
      ],
      "metadata": {
        "colab": {
          "base_uri": "https://localhost:8080/"
        },
        "id": "zAtpGigTPNck",
        "outputId": "6693af6b-10e9-4b57-ab94-cc6d67a7a095"
      },
      "execution_count": null,
      "outputs": [
        {
          "output_type": "execute_result",
          "data": {
            "text/plain": [
              "(21610, 20)"
            ]
          },
          "metadata": {},
          "execution_count": 10
        }
      ]
    },
    {
      "cell_type": "code",
      "source": [
        "housing.columns"
      ],
      "metadata": {
        "colab": {
          "base_uri": "https://localhost:8080/"
        },
        "id": "1-11XL3jPNav",
        "outputId": "bea3dc06-06f2-404e-c92c-09e06f9c5e4a"
      },
      "execution_count": null,
      "outputs": [
        {
          "output_type": "execute_result",
          "data": {
            "text/plain": [
              "Index(['id', 'price', 'bedrooms', 'bathrooms', 'sqft_living', 'sqft_lot',\n",
              "       'floors', 'waterfront', 'view', 'condition', 'grade', 'sqft_above',\n",
              "       'sqft_basement', 'yr_built', 'yr_renovated', 'zipcode', 'lat', 'long',\n",
              "       'sqft_living15', 'sqft_lot15'],\n",
              "      dtype='object')"
            ]
          },
          "metadata": {},
          "execution_count": 11
        }
      ]
    },
    {
      "cell_type": "code",
      "source": [
        "#checking for outliers\n",
        "fig, axes = plt.subplots(nrows =5, ncols = 4, figsize = (20, 18))\n",
        "\n",
        "colum = ['id', 'price', 'bedrooms', 'bathrooms', 'sqft_living', 'sqft_lot',\n",
        "       'floors', 'waterfront', 'view', 'condition', 'grade', 'sqft_above',\n",
        "       'sqft_basement', 'yr_built', 'yr_renovated', 'zipcode', 'lat', 'long',\n",
        "       'sqft_living15', 'sqft_lot15']\n",
        "plt.suptitle('Dataset Outliers', y = 1.03, fontsize = 19)\n",
        "for ax, data, colum  in zip(axes.flatten(), housing, colum):\n",
        "    sns.boxplot(housing[colum], ax = ax)\n",
        "plt.show()"
      ],
      "metadata": {
        "colab": {
          "base_uri": "https://localhost:8080/",
          "height": 855
        },
        "id": "giMUW1rAW3em",
        "outputId": "5ec298a3-2916-49b5-cf12-3eeaad0151e1"
      },
      "execution_count": null,
      "outputs": [
        {
          "output_type": "display_data",
          "data": {
            "image/png": "[encoded data removed]",
            "text/plain": [
              "<Figure size 1440x1296 with 20 Axes>"
            ]
          },
          "metadata": {
            "needs_background": "light"
          }
        }
      ]
    },
    {
      "cell_type": "markdown",
      "source": [
        "There is presence of outliers which need to be removed to improve accuracy of the results during modelling."
      ],
      "metadata": {
        "id": "f38Xnkl5aeLq"
      }
    },
    {
      "cell_type": "code",
      "source": [
        "# checking for anomalies\n",
        "anomalies = ['id', 'price', 'bedrooms', 'bathrooms', 'sqft_living', 'sqft_lot',\n",
        "       'floors', 'waterfront', 'view', 'condition', 'grade', 'sqft_above',\n",
        "       'sqft_basement', 'yr_built', 'yr_renovated', 'zipcode', 'lat', 'long',\n",
        "       'sqft_living15', 'sqft_lot15']\n",
        "       \n",
        "fig, ax = plt.subplots(len(anomalies), figsize=(12,30))\n",
        "\n",
        "for i, col_val in enumerate(anomalies):\n",
        "\n",
        "    sns.boxplot(y=housing[col_val], ax=ax[i])\n",
        "    ax[i].set_xlabel(col_val, fontsize=1)\n",
        "    plt.suptitle('Dataset anomalies', fontsize = 19)"
      ],
      "metadata": {
        "colab": {
          "base_uri": "https://localhost:8080/",
          "height": 1000
        },
        "id": "pgagCaUKPNXX",
        "outputId": "5f91a7df-c194-40c0-e7bf-2b2a96f2b6f7"
      },
      "execution_count": null,
      "outputs": [
        {
          "output_type": "display_data",
          "data": {
            "image/png": "[encoded data removed]",
            "text/plain": [
              "<Figure size 864x2160 with 20 Axes>"
            ]
          },
          "metadata": {
            "needs_background": "light"
          }
        }
      ]
    },
    {
      "cell_type": "code",
      "source": [
        "# dealing with outliers\n",
        "# quantiles\n",
        "Q1 = housing.quantile(0.25)\n",
        "Q3 = housing.quantile(0.75)\n",
        "IQR = Q3 - Q1\n",
        "\n",
        "# Removing outliers based on the IQR range \n",
        "housing1 = housing[~((housing < (Q1 - 1.5 * IQR)) | (housing > (Q3 + 1.5 * IQR))).any(axis=1)]\n",
        "\n",
        "# Printing the shape of our new dataset\n",
        "print(housing1.shape)"
      ],
      "metadata": {
        "colab": {
          "base_uri": "https://localhost:8080/"
        },
        "id": "Kf0L89mLPNVg",
        "outputId": "80d4d9f4-4ab9-40ae-9454-3ccb797e6d09"
      },
      "execution_count": null,
      "outputs": [
        {
          "output_type": "stream",
          "name": "stdout",
          "text": [
            "(14935, 20)\n"
          ]
        }
      ]
    },
    {
      "cell_type": "markdown",
      "source": [
        "# 6.Exploratory Data Analysis"
      ],
      "metadata": {
        "id": "2rFjqIdAeG1m"
      }
    },
    {
      "cell_type": "markdown",
      "source": [
        "## a) Univariate Analysis"
      ],
      "metadata": {
        "id": "-XB7MDaTeZIp"
      }
    },
    {
      "cell_type": "code",
      "source": [
        "#checking descriptive statistics of the fifa dataset\n",
        "housing1.describe()"
      ],
      "metadata": {
        "colab": {
          "base_uri": "https://localhost:8080/",
          "height": 364
        },
        "id": "kMDyn2LhPNm4",
        "outputId": "1327b87f-250b-4912-b862-b4848b6d5772"
      },
      "execution_count": null,
      "outputs": [
        {
          "output_type": "execute_result",
          "data": {
            "text/html": [
              "\n",
              "  <div id=\"df-2065bed1-0f86-4d17-9ed2-26b8f145b071\">\n",
              "    <div class=\"colab-df-container\">\n",
              "      <div>\n",
              "<style scoped>\n",
              "    .dataframe tbody tr th:only-of-type {\n",
              "        vertical-align: middle;\n",
              "    }\n",
              "\n",
              "    .dataframe tbody tr th {\n",
              "        vertical-align: top;\n",
              "    }\n",
              "\n",
              "    .dataframe thead th {\n",
              "        text-align: right;\n",
              "    }\n",
              "</style>\n",
              "<table border=\"1\" class=\"dataframe\">\n",
              "  <thead>\n",
              "    <tr style=\"text-align: right;\">\n",
              "      <th></th>\n",
              "      <th>id</th>\n",
              "      <th>price</th>\n",
              "      <th>bedrooms</th>\n",
              "      <th>bathrooms</th>\n",
              "      <th>sqft_living</th>\n",
              "      <th>sqft_lot</th>\n",
              "      <th>floors</th>\n",
              "      <th>waterfront</th>\n",
              "      <th>view</th>\n",
              "      <th>condition</th>\n",
              "      <th>grade</th>\n",
              "      <th>sqft_above</th>\n",
              "      <th>sqft_basement</th>\n",
              "      <th>yr_built</th>\n",
              "      <th>yr_renovated</th>\n",
              "      <th>zipcode</th>\n",
              "      <th>lat</th>\n",
              "      <th>long</th>\n",
              "      <th>sqft_living15</th>\n",
              "      <th>sqft_lot15</th>\n",
              "    </tr>\n",
              "  </thead>\n",
              "  <tbody>\n",
              "    <tr>\n",
              "      <th>count</th>\n",
              "      <td>1.493500e+04</td>\n",
              "      <td>1.493500e+04</td>\n",
              "      <td>14935.000000</td>\n",
              "      <td>14935.000000</td>\n",
              "      <td>14935.000000</td>\n",
              "      <td>14935.000000</td>\n",
              "      <td>14935.000000</td>\n",
              "      <td>14935.0</td>\n",
              "      <td>14935.0</td>\n",
              "      <td>14935.000000</td>\n",
              "      <td>14935.000000</td>\n",
              "      <td>14935.000000</td>\n",
              "      <td>14935.000000</td>\n",
              "      <td>14935.000000</td>\n",
              "      <td>14935.0</td>\n",
              "      <td>14935.000000</td>\n",
              "      <td>14935.000000</td>\n",
              "      <td>14935.000000</td>\n",
              "      <td>14935.000000</td>\n",
              "      <td>14935.000000</td>\n",
              "    </tr>\n",
              "    <tr>\n",
              "      <th>mean</th>\n",
              "      <td>4.729214e+09</td>\n",
              "      <td>4.386582e+05</td>\n",
              "      <td>3.262337</td>\n",
              "      <td>1.972179</td>\n",
              "      <td>1814.293940</td>\n",
              "      <td>6988.896150</td>\n",
              "      <td>1.471342</td>\n",
              "      <td>0.0</td>\n",
              "      <td>0.0</td>\n",
              "      <td>3.420623</td>\n",
              "      <td>7.380516</td>\n",
              "      <td>1585.198594</td>\n",
              "      <td>229.095347</td>\n",
              "      <td>1971.708604</td>\n",
              "      <td>0.0</td>\n",
              "      <td>98079.765383</td>\n",
              "      <td>47.558906</td>\n",
              "      <td>-122.230169</td>\n",
              "      <td>1796.942819</td>\n",
              "      <td>6868.331034</td>\n",
              "    </tr>\n",
              "    <tr>\n",
              "      <th>std</th>\n",
              "      <td>2.851519e+09</td>\n",
              "      <td>1.805742e+05</td>\n",
              "      <td>0.772942</td>\n",
              "      <td>0.646058</td>\n",
              "      <td>614.767257</td>\n",
              "      <td>3355.737263</td>\n",
              "      <td>0.547908</td>\n",
              "      <td>0.0</td>\n",
              "      <td>0.0</td>\n",
              "      <td>0.647318</td>\n",
              "      <td>0.805205</td>\n",
              "      <td>601.524228</td>\n",
              "      <td>353.371132</td>\n",
              "      <td>29.252941</td>\n",
              "      <td>0.0</td>\n",
              "      <td>53.477499</td>\n",
              "      <td>0.142091</td>\n",
              "      <td>0.123688</td>\n",
              "      <td>507.449152</td>\n",
              "      <td>2987.774641</td>\n",
              "    </tr>\n",
              "    <tr>\n",
              "      <th>min</th>\n",
              "      <td>2.800031e+06</td>\n",
              "      <td>8.200000e+04</td>\n",
              "      <td>2.000000</td>\n",
              "      <td>0.750000</td>\n",
              "      <td>560.000000</td>\n",
              "      <td>520.000000</td>\n",
              "      <td>1.000000</td>\n",
              "      <td>0.0</td>\n",
              "      <td>0.0</td>\n",
              "      <td>2.000000</td>\n",
              "      <td>6.000000</td>\n",
              "      <td>480.000000</td>\n",
              "      <td>0.000000</td>\n",
              "      <td>1900.000000</td>\n",
              "      <td>0.0</td>\n",
              "      <td>98001.000000</td>\n",
              "      <td>47.189500</td>\n",
              "      <td>-122.472000</td>\n",
              "      <td>620.000000</td>\n",
              "      <td>651.000000</td>\n",
              "    </tr>\n",
              "    <tr>\n",
              "      <th>25%</th>\n",
              "      <td>2.321300e+09</td>\n",
              "      <td>3.000000e+05</td>\n",
              "      <td>3.000000</td>\n",
              "      <td>1.500000</td>\n",
              "      <td>1350.000000</td>\n",
              "      <td>4690.000000</td>\n",
              "      <td>1.000000</td>\n",
              "      <td>0.0</td>\n",
              "      <td>0.0</td>\n",
              "      <td>3.000000</td>\n",
              "      <td>7.000000</td>\n",
              "      <td>1140.000000</td>\n",
              "      <td>0.000000</td>\n",
              "      <td>1952.000000</td>\n",
              "      <td>0.0</td>\n",
              "      <td>98033.000000</td>\n",
              "      <td>47.457600</td>\n",
              "      <td>-122.333000</td>\n",
              "      <td>1430.000000</td>\n",
              "      <td>4800.000000</td>\n",
              "    </tr>\n",
              "    <tr>\n",
              "      <th>50%</th>\n",
              "      <td>4.037800e+09</td>\n",
              "      <td>4.050000e+05</td>\n",
              "      <td>3.000000</td>\n",
              "      <td>2.000000</td>\n",
              "      <td>1740.000000</td>\n",
              "      <td>7020.000000</td>\n",
              "      <td>1.000000</td>\n",
              "      <td>0.0</td>\n",
              "      <td>0.0</td>\n",
              "      <td>3.000000</td>\n",
              "      <td>7.000000</td>\n",
              "      <td>1430.000000</td>\n",
              "      <td>0.000000</td>\n",
              "      <td>1974.000000</td>\n",
              "      <td>0.0</td>\n",
              "      <td>98072.000000</td>\n",
              "      <td>47.569700</td>\n",
              "      <td>-122.264000</td>\n",
              "      <td>1710.000000</td>\n",
              "      <td>7172.000000</td>\n",
              "    </tr>\n",
              "    <tr>\n",
              "      <th>75%</th>\n",
              "      <td>7.453500e+09</td>\n",
              "      <td>5.475000e+05</td>\n",
              "      <td>4.000000</td>\n",
              "      <td>2.500000</td>\n",
              "      <td>2210.000000</td>\n",
              "      <td>8925.000000</td>\n",
              "      <td>2.000000</td>\n",
              "      <td>0.0</td>\n",
              "      <td>0.0</td>\n",
              "      <td>4.000000</td>\n",
              "      <td>8.000000</td>\n",
              "      <td>1910.000000</td>\n",
              "      <td>450.000000</td>\n",
              "      <td>1999.000000</td>\n",
              "      <td>0.0</td>\n",
              "      <td>98118.000000</td>\n",
              "      <td>47.683500</td>\n",
              "      <td>-122.153000</td>\n",
              "      <td>2090.500000</td>\n",
              "      <td>8649.500000</td>\n",
              "    </tr>\n",
              "    <tr>\n",
              "      <th>max</th>\n",
              "      <td>9.900000e+09</td>\n",
              "      <td>1.130000e+06</td>\n",
              "      <td>5.000000</td>\n",
              "      <td>3.500000</td>\n",
              "      <td>4200.000000</td>\n",
              "      <td>19141.000000</td>\n",
              "      <td>3.500000</td>\n",
              "      <td>0.0</td>\n",
              "      <td>0.0</td>\n",
              "      <td>5.000000</td>\n",
              "      <td>9.000000</td>\n",
              "      <td>3740.000000</td>\n",
              "      <td>1400.000000</td>\n",
              "      <td>2015.000000</td>\n",
              "      <td>0.0</td>\n",
              "      <td>98199.000000</td>\n",
              "      <td>47.777600</td>\n",
              "      <td>-121.821000</td>\n",
              "      <td>3640.000000</td>\n",
              "      <td>17550.000000</td>\n",
              "    </tr>\n",
              "  </tbody>\n",
              "</table>\n",
              "</div>\n",
              "      <button class=\"colab-df-convert\" onclick=\"convertToInteractive('df-2065bed1-0f86-4d17-9ed2-26b8f145b071')\"\n",
              "              title=\"Convert this dataframe to an interactive table.\"\n",
              "              style=\"display:none;\">\n",
              "        \n",
              "  <svg xmlns=\"http://www.w3.org/2000/svg\" height=\"24px\"viewBox=\"0 0 24 24\"\n",
              "       width=\"24px\">\n",
              "    <path d=\"M0 0h24v24H0V0z\" fill=\"none\"/>\n",
              "    <path d=\"M18.56 5.44l.94 2.06.94-2.06 2.06-.94-2.06-.94-.94-2.06-.94 2.06-2.06.94zm-11 1L8.5 8.5l.94-2.06 2.06-.94-2.06-.94L8.5 2.5l-.94 2.06-2.06.94zm10 10l.94 2.06.94-2.06 2.06-.94-2.06-.94-.94-2.06-.94 2.06-2.06.94z\"/><path d=\"M17.41 7.96l-1.37-1.37c-.4-.4-.92-.59-1.43-.59-.52 0-1.04.2-1.43.59L10.3 9.45l-7.72 7.72c-.78.78-.78 2.05 0 2.83L4 21.41c.39.39.9.59 1.41.59.51 0 1.02-.2 1.41-.59l7.78-7.78 2.81-2.81c.8-.78.8-2.07 0-2.86zM5.41 20L4 18.59l7.72-7.72 1.47 1.35L5.41 20z\"/>\n",
              "  </svg>\n",
              "      </button>\n",
              "      \n",
              "  <style>\n",
              "    .colab-df-container {\n",
              "      display:flex;\n",
              "      flex-wrap:wrap;\n",
              "      gap: 12px;\n",
              "    }\n",
              "\n",
              "    .colab-df-convert {\n",
              "      background-color: #E8F0FE;\n",
              "      border: none;\n",
              "      border-radius: 50%;\n",
              "      cursor: pointer;\n",
              "      display: none;\n",
              "      fill: #1967D2;\n",
              "      height: 32px;\n",
              "      padding: 0 0 0 0;\n",
              "      width: 32px;\n",
              "    }\n",
              "\n",
              "    .colab-df-convert:hover {\n",
              "      background-color: #E2EBFA;\n",
              "      box-shadow: 0px 1px 2px rgba(60, 64, 67, 0.3), 0px 1px 3px 1px rgba(60, 64, 67, 0.15);\n",
              "      fill: #174EA6;\n",
              "    }\n",
              "\n",
              "    [theme=dark] .colab-df-convert {\n",
              "      background-color: #3B4455;\n",
              "      fill: #D2E3FC;\n",
              "    }\n",
              "\n",
              "    [theme=dark] .colab-df-convert:hover {\n",
              "      background-color: #434B5C;\n",
              "      box-shadow: 0px 1px 3px 1px rgba(0, 0, 0, 0.15);\n",
              "      filter: drop-shadow(0px 1px 2px rgba(0, 0, 0, 0.3));\n",
              "      fill: #FFFFFF;\n",
              "    }\n",
              "  </style>\n",
              "\n",
              "      <script>\n",
              "        const buttonEl =\n",
              "          document.querySelector('#df-2065bed1-0f86-4d17-9ed2-26b8f145b071 button.colab-df-convert');\n",
              "        buttonEl.style.display =\n",
              "          google.colab.kernel.accessAllowed ? 'block' : 'none';\n",
              "\n",
              "        async function convertToInteractive(key) {\n",
              "          const element = document.querySelector('#df-2065bed1-0f86-4d17-9ed2-26b8f145b071');\n",
              "          const dataTable =\n",
              "            await google.colab.kernel.invokeFunction('convertToInteractive',\n",
              "                                                     [key], {});\n",
              "          if (!dataTable) return;\n",
              "\n",
              "          const docLinkHtml = 'Like what you see? Visit the ' +\n",
              "            '<a target=\"_blank\" href=https://colab.research.google.com/notebooks/data_table.ipynb>data table notebook</a>'\n",
              "            + ' to learn more about interactive tables.';\n",
              "          element.innerHTML = '';\n",
              "          dataTable['output_type'] = 'display_data';\n",
              "          await google.colab.output.renderOutput(dataTable, element);\n",
              "          const docLink = document.createElement('div');\n",
              "          docLink.innerHTML = docLinkHtml;\n",
              "          element.appendChild(docLink);\n",
              "        }\n",
              "      </script>\n",
              "    </div>\n",
              "  </div>\n",
              "  "
            ],
            "text/plain": [
              "                 id         price  ...  sqft_living15    sqft_lot15\n",
              "count  1.493500e+04  1.493500e+04  ...   14935.000000  14935.000000\n",
              "mean   4.729214e+09  4.386582e+05  ...    1796.942819   6868.331034\n",
              "std    2.851519e+09  1.805742e+05  ...     507.449152   2987.774641\n",
              "min    2.800031e+06  8.200000e+04  ...     620.000000    651.000000\n",
              "25%    2.321300e+09  3.000000e+05  ...    1430.000000   4800.000000\n",
              "50%    4.037800e+09  4.050000e+05  ...    1710.000000   7172.000000\n",
              "75%    7.453500e+09  5.475000e+05  ...    2090.500000   8649.500000\n",
              "max    9.900000e+09  1.130000e+06  ...    3640.000000  17550.000000\n",
              "\n",
              "[8 rows x 20 columns]"
            ]
          },
          "metadata": {},
          "execution_count": 15
        }
      ]
    },
    {
      "cell_type": "code",
      "source": [
        "# Finding the measures of central tendencies\n",
        "\n",
        "for column in anomalies:\n",
        "  print('\\n')\n",
        "\n",
        "  print(column + ', Variance: '+ str(housing1[column].var()))\n",
        "  print(column + ', Skewness: '+ str(housing1[column].skew()))\n",
        "  print(column + ', Kurtosis: '+ str(housing1[column].kurt()))"
      ],
      "metadata": {
        "colab": {
          "base_uri": "https://localhost:8080/"
        },
        "id": "b-VeZMKJPNRt",
        "outputId": "aa531f4f-e835-4084-c7f5-44e3bdc54c75"
      },
      "execution_count": null,
      "outputs": [
        {
          "output_type": "stream",
          "name": "stdout",
          "text": [
            "\n",
            "\n",
            "id, Variance: 8.131160749401013e+18\n",
            "id, Skewness: 0.1867830246326962\n",
            "id, Kurtosis: -1.2752332017807446\n",
            "\n",
            "\n",
            "price, Variance: 32607040353.144436\n",
            "price, Skewness: 0.8421013703791459\n",
            "price, Kurtosis: 0.44551300889583967\n",
            "\n",
            "\n",
            "bedrooms, Variance: 0.5974396977320987\n",
            "bedrooms, Skewness: 0.24255682126424405\n",
            "bedrooms, Kurtosis: -0.2732799106297472\n",
            "\n",
            "\n",
            "bathrooms, Variance: 0.4173908905242536\n",
            "bathrooms, Skewness: -0.09339535678575986\n",
            "bathrooms, Kurtosis: -0.8167482245769908\n",
            "\n",
            "\n",
            "sqft_living, Variance: 377938.7806081155\n",
            "sqft_living, Skewness: 0.5487260208626119\n",
            "sqft_living, Kurtosis: -0.09451260097885816\n",
            "\n",
            "\n",
            "sqft_lot, Variance: 11260972.580147898\n",
            "sqft_lot, Skewness: 0.5288268536365436\n",
            "sqft_lot, Kurtosis: 0.4895734320795717\n",
            "\n",
            "\n",
            "floors, Variance: 0.30020319962462666\n",
            "floors, Skewness: 0.772488420533572\n",
            "floors, Kurtosis: -0.21932982033928772\n",
            "\n",
            "\n",
            "waterfront, Variance: 0.0\n",
            "waterfront, Skewness: 0\n",
            "waterfront, Kurtosis: 0\n",
            "\n",
            "\n",
            "view, Variance: 0.0\n",
            "view, Skewness: 0\n",
            "view, Kurtosis: 0\n",
            "\n",
            "\n",
            "condition, Variance: 0.41902023630009344\n",
            "condition, Skewness: 1.118044212663973\n",
            "condition, Kurtosis: 0.3107068421196515\n",
            "\n",
            "\n",
            "grade, Variance: 0.6483547629657062\n",
            "grade, Skewness: 0.31853324630688357\n",
            "grade, Kurtosis: -0.340484229771429\n",
            "\n",
            "\n",
            "sqft_above, Variance: 361831.3963419358\n",
            "sqft_above, Skewness: 0.9654732400468639\n",
            "sqft_above, Kurtosis: 0.40948165158220107\n",
            "\n",
            "\n",
            "sqft_basement, Variance: 124871.15724031958\n",
            "sqft_basement, Skewness: 1.3227147748318846\n",
            "sqft_basement, Kurtosis: 0.5002799759371097\n",
            "\n",
            "\n",
            "yr_built, Variance: 855.7345550015384\n",
            "yr_built, Skewness: -0.45021429755818904\n",
            "yr_built, Kurtosis: -0.6535226578574931\n",
            "\n",
            "\n",
            "yr_renovated, Variance: 0.0\n",
            "yr_renovated, Skewness: 0\n",
            "yr_renovated, Kurtosis: 0\n",
            "\n",
            "\n",
            "zipcode, Variance: 2859.842902315576\n",
            "zipcode, Skewness: 0.32068001376685235\n",
            "zipcode, Kurtosis: -0.9544329597172863\n",
            "\n",
            "\n",
            "lat, Variance: 0.02018980070851227\n",
            "lat, Skewness: -0.4423871695651329\n",
            "lat, Kurtosis: -0.8517004389280651\n",
            "\n",
            "\n",
            "long, Variance: 0.015298667389678491\n",
            "long, Skewness: 0.6841493883635843\n",
            "long, Kurtosis: -0.2632592931498303\n",
            "\n",
            "\n",
            "sqft_living15, Variance: 257504.64237092162\n",
            "sqft_living15, Skewness: 0.750572813432057\n",
            "sqft_living15, Kurtosis: 0.2940496931809147\n",
            "\n",
            "\n",
            "sqft_lot15, Variance: 8926797.306506258\n",
            "sqft_lot15, Skewness: 0.29757520166834417\n",
            "sqft_lot15, Kurtosis: 0.18803097905335875\n"
          ]
        }
      ]
    },
    {
      "cell_type": "code",
      "source": [
        "#Checking for the data if its normally distributed\n",
        "housing1.hist(bins=10, figsize=[16,14])"
      ],
      "metadata": {
        "colab": {
          "base_uri": "https://localhost:8080/",
          "height": 1000
        },
        "id": "B7eIBdr8PNP-",
        "outputId": "e7b109dd-f05e-42b0-8de1-4cd432bc66d8"
      },
      "execution_count": null,
      "outputs": [
        {
          "output_type": "execute_result",
          "data": {
            "text/plain": [
              "array([[<matplotlib.axes._subplots.AxesSubplot object at 0x7f544e041690>,\n",
              "        <matplotlib.axes._subplots.AxesSubplot object at 0x7f544dfd3dd0>,\n",
              "        <matplotlib.axes._subplots.AxesSubplot object at 0x7f544df8a410>,\n",
              "        <matplotlib.axes._subplots.AxesSubplot object at 0x7f544dfbfa10>],\n",
              "       [<matplotlib.axes._subplots.AxesSubplot object at 0x7f544df75f10>,\n",
              "        <matplotlib.axes._subplots.AxesSubplot object at 0x7f544df39550>,\n",
              "        <matplotlib.axes._subplots.AxesSubplot object at 0x7f544def0bd0>,\n",
              "        <matplotlib.axes._subplots.AxesSubplot object at 0x7f544deb64d0>],\n",
              "       [<matplotlib.axes._subplots.AxesSubplot object at 0x7f544deb6590>,\n",
              "        <matplotlib.axes._subplots.AxesSubplot object at 0x7f544de6ac10>,\n",
              "        <matplotlib.axes._subplots.AxesSubplot object at 0x7f544dde3550>,\n",
              "        <matplotlib.axes._subplots.AxesSubplot object at 0x7f544dd98a50>],\n",
              "       [<matplotlib.axes._subplots.AxesSubplot object at 0x7f544dd4ef50>,\n",
              "        <matplotlib.axes._subplots.AxesSubplot object at 0x7f544dd12490>,\n",
              "        <matplotlib.axes._subplots.AxesSubplot object at 0x7f544dcc5990>,\n",
              "        <matplotlib.axes._subplots.AxesSubplot object at 0x7f544dcf9ed0>],\n",
              "       [<matplotlib.axes._subplots.AxesSubplot object at 0x7f544dcbb410>,\n",
              "        <matplotlib.axes._subplots.AxesSubplot object at 0x7f544dc70910>,\n",
              "        <matplotlib.axes._subplots.AxesSubplot object at 0x7f544dc26e10>,\n",
              "        <matplotlib.axes._subplots.AxesSubplot object at 0x7f544dbe9350>]],\n",
              "      dtype=object)"
            ]
          },
          "metadata": {},
          "execution_count": 17
        },
        {
          "output_type": "display_data",
          "data": {
            "image/png": "[encoded data removed]",
            "text/plain": [
              "<Figure size 1152x1008 with 20 Axes>"
            ]
          },
          "metadata": {
            "needs_background": "light"
          }
        }
      ]
    },
    {
      "cell_type": "markdown",
      "source": [
        "The distribution is not normal"
      ],
      "metadata": {
        "id": "zcac4TiSD1w8"
      }
    },
    {
      "cell_type": "code",
      "source": [
        "#frequency table for bedrooms variable to show how which number of bedrooms per house is most common\n",
        "\n",
        "housing1.bedrooms.value_counts()"
      ],
      "metadata": {
        "colab": {
          "base_uri": "https://localhost:8080/"
        },
        "id": "MSGOpfI1fa1O",
        "outputId": "5922e379-b3bd-4286-ab16-470dc522e254"
      },
      "execution_count": null,
      "outputs": [
        {
          "output_type": "execute_result",
          "data": {
            "text/plain": [
              "3    7508\n",
              "4    4411\n",
              "2    2175\n",
              "5     841\n",
              "Name: bedrooms, dtype: int64"
            ]
          },
          "metadata": {},
          "execution_count": 18
        }
      ]
    },
    {
      "cell_type": "markdown",
      "source": [
        "According to our frequency table 3 bedroom house  has the highest number of records i.e 7508 whereas 5 bedroom house has the least number of records i.e 841.\n",
        "\n",
        "plotting the observations below using a barchart"
      ],
      "metadata": {
        "id": "0GWnSFfziDb6"
      }
    },
    {
      "cell_type": "code",
      "source": [
        "# Plotting the variable bedrooms into a bar chart\n",
        "housing1['bedrooms'].value_counts().plot(kind= 'bar');\n",
        "\n",
        "# Labelling the axes\n",
        "plt.xlabel(\"bedrooms\")\n",
        "plt.ylabel(\"Count\")\n",
        "\n",
        "# Giving a title to our Bar chart\n",
        "plt.title(\"Bargraph representing no.of bedrooms in a house\")\n"
      ],
      "metadata": {
        "colab": {
          "base_uri": "https://localhost:8080/",
          "height": 310
        },
        "id": "Rh3DGcz6h9Kk",
        "outputId": "27b1a4ec-ac9a-49db-8c72-ef76a1e0c43f"
      },
      "execution_count": null,
      "outputs": [
        {
          "output_type": "execute_result",
          "data": {
            "text/plain": [
              "Text(0.5, 1.0, 'Bargraph representing no.of bedrooms in a house')"
            ]
          },
          "metadata": {},
          "execution_count": 19
        },
        {
          "output_type": "display_data",
          "data": {
            "image/png": "[encoded data removed]",
            "text/plain": [
              "<Figure size 432x288 with 1 Axes>"
            ]
          },
          "metadata": {
            "needs_background": "light"
          }
        }
      ]
    },
    {
      "cell_type": "code",
      "source": [
        "housing1.grade.value_counts()"
      ],
      "metadata": {
        "colab": {
          "base_uri": "https://localhost:8080/"
        },
        "id": "W6VeyeeZtSGs",
        "outputId": "2f8c14fb-a5f4-4d40-fbfe-39886d30272e"
      },
      "execution_count": null,
      "outputs": [
        {
          "output_type": "execute_result",
          "data": {
            "text/plain": [
              "7    7428\n",
              "8    4426\n",
              "6    1635\n",
              "9    1446\n",
              "Name: grade, dtype: int64"
            ]
          },
          "metadata": {},
          "execution_count": 20
        }
      ]
    },
    {
      "cell_type": "markdown",
      "source": [
        "grade 7 has the highest number of records i.e. 7428 while grade 9 has the least number of records i.e. 1446"
      ],
      "metadata": {
        "id": "OD3NHm5nCz9t"
      }
    },
    {
      "cell_type": "code",
      "source": [
        "#frequency table for floors variable to show how which number of floors of a house is most common\n",
        "\n",
        "housing1.floors.value_counts()"
      ],
      "metadata": {
        "colab": {
          "base_uri": "https://localhost:8080/"
        },
        "id": "BKrlAlQcfayK",
        "outputId": "01863061-732d-4219-f049-90cdea7513e1"
      },
      "execution_count": null,
      "outputs": [
        {
          "output_type": "execute_result",
          "data": {
            "text/plain": [
              "1.0    7792\n",
              "2.0    5255\n",
              "1.5    1308\n",
              "3.0     511\n",
              "2.5      64\n",
              "3.5       5\n",
              "Name: floors, dtype: int64"
            ]
          },
          "metadata": {},
          "execution_count": 21
        }
      ]
    },
    {
      "cell_type": "markdown",
      "source": [
        "According to our frequency table 1 floored-house has the highest number of records i.e 7792 whereas 3.5 floor house has the least number of records i.e 5. \n",
        "\n",
        "plotting the observations below using a barchart"
      ],
      "metadata": {
        "id": "ULtcre-Ij9I5"
      }
    },
    {
      "cell_type": "code",
      "source": [
        "# Plotting the variable floors into a bar chart\n",
        "housing1['floors'].value_counts().plot(kind= 'bar');\n",
        "\n",
        "# Labelling the axes\n",
        "plt.xlabel(\"floors\")\n",
        "plt.ylabel(\"Count\")\n",
        "\n",
        "# Giving a title to our Bar chart\n",
        "plt.title(\"Bargraph representing no.of floors in a house\")"
      ],
      "metadata": {
        "colab": {
          "base_uri": "https://localhost:8080/",
          "height": 319
        },
        "id": "8HHSXGoCj8vt",
        "outputId": "a5da2040-6783-44d2-d7c6-8ad677153ba2"
      },
      "execution_count": null,
      "outputs": [
        {
          "output_type": "execute_result",
          "data": {
            "text/plain": [
              "Text(0.5, 1.0, 'Bargraph representing no.of floors in a house')"
            ]
          },
          "metadata": {},
          "execution_count": 22
        },
        {
          "output_type": "display_data",
          "data": {
            "image/png": "[encoded data removed]",
            "text/plain": [
              "<Figure size 432x288 with 1 Axes>"
            ]
          },
          "metadata": {
            "needs_background": "light"
          }
        }
      ]
    },
    {
      "cell_type": "markdown",
      "source": [
        "The more the floors the lesser the occupants"
      ],
      "metadata": {
        "id": "o2mgFeEHkfsj"
      }
    },
    {
      "cell_type": "markdown",
      "source": [
        "## b) Bivariate Analysis"
      ],
      "metadata": {
        "id": "5_m1yj_9p5Kn"
      }
    },
    {
      "cell_type": "code",
      "source": [
        "# plotting of price vs bedrooms\n",
        "\n",
        "ax = sns.barplot(x = 'bedrooms', y = 'price', data=housing1, ci=None, estimator=np.mean)\n",
        "ax.set(xlabel='No.of bedrooms',\n",
        "       ylabel='Price of house',\n",
        "       title='Price vs no.of bedrooms')\n",
        "plt.show()"
      ],
      "metadata": {
        "colab": {
          "base_uri": "https://localhost:8080/",
          "height": 295
        },
        "id": "69ewgnLHfauJ",
        "outputId": "44071fcc-fba4-4aef-ffd6-727057c9a7ed"
      },
      "execution_count": null,
      "outputs": [
        {
          "output_type": "display_data",
          "data": {
            "image/png": "[encoded data removed]",
            "text/plain": [
              "<Figure size 432x288 with 1 Axes>"
            ]
          },
          "metadata": {
            "needs_background": "light"
          }
        }
      ]
    },
    {
      "cell_type": "markdown",
      "source": [
        "From the observations, a 2-bedroomed house is the cheapest while a 5-bedroomed house is the most expensive. Price increases as the no.of bedrooms increases"
      ],
      "metadata": {
        "id": "8Nm31s6Mq8ds"
      }
    },
    {
      "cell_type": "code",
      "source": [
        "# plotting of price vs floors\n",
        "\n",
        "ax = sns.barplot(x = 'floors', y = 'price', data=housing1, ci=None, estimator=np.mean)\n",
        "ax.set(xlabel='floors',\n",
        "       ylabel='Price of house',\n",
        "       title='Price vs no.of floors')\n",
        "plt.show()"
      ],
      "metadata": {
        "colab": {
          "base_uri": "https://localhost:8080/",
          "height": 295
        },
        "id": "0VdleOSxfarp",
        "outputId": "1734b655-fce9-4673-c89c-bfe22c224f41"
      },
      "execution_count": null,
      "outputs": [
        {
          "output_type": "display_data",
          "data": {
            "image/png": "[encoded data removed]",
            "text/plain": [
              "<Figure size 432x288 with 1 Axes>"
            ]
          },
          "metadata": {
            "needs_background": "light"
          }
        }
      ]
    },
    {
      "cell_type": "markdown",
      "source": [
        "from the output, a house with 2.5 no.of  floors is the most expensive followed by 3.5 no.of floors and 1.5. A house with 1 floor is the cheapest"
      ],
      "metadata": {
        "id": "Uvn6fnezsNQ0"
      }
    },
    {
      "cell_type": "code",
      "source": [
        "# plotting of price vs grade\n",
        "\n",
        "ax = sns.barplot(x = 'grade', y = 'price', data=housing1, ci=None, estimator=np.mean)\n",
        "ax.set(xlabel='grade',\n",
        "       ylabel='Price of house',\n",
        "       title='Price vs grade')\n",
        "plt.show()"
      ],
      "metadata": {
        "colab": {
          "base_uri": "https://localhost:8080/",
          "height": 295
        },
        "id": "sAXDhPm8fane",
        "outputId": "9ecc8d91-a304-498b-9f74-b3eab5a1aa0f"
      },
      "execution_count": null,
      "outputs": [
        {
          "output_type": "display_data",
          "data": {
            "image/png": "[encoded data removed]",
            "text/plain": [
              "<Figure size 432x288 with 1 Axes>"
            ]
          },
          "metadata": {
            "needs_background": "light"
          }
        }
      ]
    },
    {
      "cell_type": "markdown",
      "source": [
        "grade 9 is the most expensive while grade six is the least expensive"
      ],
      "metadata": {
        "id": "NfNYJvfBtg7q"
      }
    },
    {
      "cell_type": "code",
      "source": [
        "housing.corr()"
      ],
      "metadata": {
        "colab": {
          "base_uri": "https://localhost:8080/",
          "height": 740
        },
        "id": "nfTR5yOqvcKU",
        "outputId": "3e137214-d82d-4fb4-c54b-1fd132453391"
      },
      "execution_count": null,
      "outputs": [
        {
          "output_type": "execute_result",
          "data": {
            "text/html": [
              "\n",
              "  <div id=\"df-5230188d-2541-4bb1-996e-2b53c6d991a8\">\n",
              "    <div class=\"colab-df-container\">\n",
              "      <div>\n",
              "<style scoped>\n",
              "    .dataframe tbody tr th:only-of-type {\n",
              "        vertical-align: middle;\n",
              "    }\n",
              "\n",
              "    .dataframe tbody tr th {\n",
              "        vertical-align: top;\n",
              "    }\n",
              "\n",
              "    .dataframe thead th {\n",
              "        text-align: right;\n",
              "    }\n",
              "</style>\n",
              "<table border=\"1\" class=\"dataframe\">\n",
              "  <thead>\n",
              "    <tr style=\"text-align: right;\">\n",
              "      <th></th>\n",
              "      <th>id</th>\n",
              "      <th>price</th>\n",
              "      <th>bedrooms</th>\n",
              "      <th>bathrooms</th>\n",
              "      <th>sqft_living</th>\n",
              "      <th>sqft_lot</th>\n",
              "      <th>floors</th>\n",
              "      <th>waterfront</th>\n",
              "      <th>view</th>\n",
              "      <th>condition</th>\n",
              "      <th>grade</th>\n",
              "      <th>sqft_above</th>\n",
              "      <th>sqft_basement</th>\n",
              "      <th>yr_built</th>\n",
              "      <th>yr_renovated</th>\n",
              "      <th>zipcode</th>\n",
              "      <th>lat</th>\n",
              "      <th>long</th>\n",
              "      <th>sqft_living15</th>\n",
              "      <th>sqft_lot15</th>\n",
              "    </tr>\n",
              "  </thead>\n",
              "  <tbody>\n",
              "    <tr>\n",
              "      <th>id</th>\n",
              "      <td>1.000000</td>\n",
              "      <td>-0.016803</td>\n",
              "      <td>0.001354</td>\n",
              "      <td>0.005093</td>\n",
              "      <td>-0.012239</td>\n",
              "      <td>-0.132101</td>\n",
              "      <td>0.018482</td>\n",
              "      <td>-0.002717</td>\n",
              "      <td>0.011785</td>\n",
              "      <td>-0.023686</td>\n",
              "      <td>0.008093</td>\n",
              "      <td>-0.010857</td>\n",
              "      <td>-0.005084</td>\n",
              "      <td>0.021218</td>\n",
              "      <td>-0.016688</td>\n",
              "      <td>-0.008129</td>\n",
              "      <td>-0.001861</td>\n",
              "      <td>0.020776</td>\n",
              "      <td>-0.002869</td>\n",
              "      <td>-0.138778</td>\n",
              "    </tr>\n",
              "    <tr>\n",
              "      <th>price</th>\n",
              "      <td>-0.016803</td>\n",
              "      <td>1.000000</td>\n",
              "      <td>0.308346</td>\n",
              "      <td>0.525140</td>\n",
              "      <td>0.702046</td>\n",
              "      <td>0.089658</td>\n",
              "      <td>0.256793</td>\n",
              "      <td>0.266332</td>\n",
              "      <td>0.397466</td>\n",
              "      <td>0.036397</td>\n",
              "      <td>0.667478</td>\n",
              "      <td>0.605569</td>\n",
              "      <td>0.323849</td>\n",
              "      <td>0.053980</td>\n",
              "      <td>0.126503</td>\n",
              "      <td>-0.053162</td>\n",
              "      <td>0.306922</td>\n",
              "      <td>0.021567</td>\n",
              "      <td>0.585382</td>\n",
              "      <td>0.082457</td>\n",
              "    </tr>\n",
              "    <tr>\n",
              "      <th>bedrooms</th>\n",
              "      <td>0.001354</td>\n",
              "      <td>0.308346</td>\n",
              "      <td>1.000000</td>\n",
              "      <td>0.515935</td>\n",
              "      <td>0.576674</td>\n",
              "      <td>0.031699</td>\n",
              "      <td>0.175448</td>\n",
              "      <td>-0.006583</td>\n",
              "      <td>0.079433</td>\n",
              "      <td>0.028422</td>\n",
              "      <td>0.357003</td>\n",
              "      <td>0.477619</td>\n",
              "      <td>0.303077</td>\n",
              "      <td>0.154276</td>\n",
              "      <td>0.018695</td>\n",
              "      <td>-0.152721</td>\n",
              "      <td>-0.008953</td>\n",
              "      <td>0.129474</td>\n",
              "      <td>0.391633</td>\n",
              "      <td>0.029233</td>\n",
              "    </tr>\n",
              "    <tr>\n",
              "      <th>bathrooms</th>\n",
              "      <td>0.005093</td>\n",
              "      <td>0.525140</td>\n",
              "      <td>0.515935</td>\n",
              "      <td>1.000000</td>\n",
              "      <td>0.754688</td>\n",
              "      <td>0.087750</td>\n",
              "      <td>0.500669</td>\n",
              "      <td>0.063747</td>\n",
              "      <td>0.187891</td>\n",
              "      <td>-0.124940</td>\n",
              "      <td>0.664990</td>\n",
              "      <td>0.685351</td>\n",
              "      <td>0.283814</td>\n",
              "      <td>0.505997</td>\n",
              "      <td>0.050879</td>\n",
              "      <td>-0.203831</td>\n",
              "      <td>0.024590</td>\n",
              "      <td>0.223047</td>\n",
              "      <td>0.568665</td>\n",
              "      <td>0.087191</td>\n",
              "    </tr>\n",
              "    <tr>\n",
              "      <th>sqft_living</th>\n",
              "      <td>-0.012239</td>\n",
              "      <td>0.702046</td>\n",
              "      <td>0.576674</td>\n",
              "      <td>0.754688</td>\n",
              "      <td>1.000000</td>\n",
              "      <td>0.172830</td>\n",
              "      <td>0.353954</td>\n",
              "      <td>0.103820</td>\n",
              "      <td>0.284641</td>\n",
              "      <td>-0.058768</td>\n",
              "      <td>0.762719</td>\n",
              "      <td>0.876600</td>\n",
              "      <td>0.435054</td>\n",
              "      <td>0.318099</td>\n",
              "      <td>0.055314</td>\n",
              "      <td>-0.199435</td>\n",
              "      <td>0.052521</td>\n",
              "      <td>0.240221</td>\n",
              "      <td>0.756420</td>\n",
              "      <td>0.183285</td>\n",
              "    </tr>\n",
              "    <tr>\n",
              "      <th>sqft_lot</th>\n",
              "      <td>-0.132101</td>\n",
              "      <td>0.089658</td>\n",
              "      <td>0.031699</td>\n",
              "      <td>0.087750</td>\n",
              "      <td>0.172830</td>\n",
              "      <td>1.000000</td>\n",
              "      <td>-0.005171</td>\n",
              "      <td>0.021601</td>\n",
              "      <td>0.074753</td>\n",
              "      <td>-0.008967</td>\n",
              "      <td>0.113644</td>\n",
              "      <td>0.183527</td>\n",
              "      <td>0.015271</td>\n",
              "      <td>0.053105</td>\n",
              "      <td>0.007677</td>\n",
              "      <td>-0.129611</td>\n",
              "      <td>-0.085680</td>\n",
              "      <td>0.229552</td>\n",
              "      <td>0.144620</td>\n",
              "      <td>0.718556</td>\n",
              "    </tr>\n",
              "    <tr>\n",
              "      <th>floors</th>\n",
              "      <td>0.018482</td>\n",
              "      <td>0.256793</td>\n",
              "      <td>0.175448</td>\n",
              "      <td>0.500669</td>\n",
              "      <td>0.353954</td>\n",
              "      <td>-0.005171</td>\n",
              "      <td>1.000000</td>\n",
              "      <td>0.023711</td>\n",
              "      <td>0.029325</td>\n",
              "      <td>-0.263779</td>\n",
              "      <td>0.458151</td>\n",
              "      <td>0.523874</td>\n",
              "      <td>-0.245673</td>\n",
              "      <td>0.489347</td>\n",
              "      <td>0.006156</td>\n",
              "      <td>-0.059025</td>\n",
              "      <td>0.049593</td>\n",
              "      <td>0.125343</td>\n",
              "      <td>0.279861</td>\n",
              "      <td>-0.011250</td>\n",
              "    </tr>\n",
              "    <tr>\n",
              "      <th>waterfront</th>\n",
              "      <td>-0.002717</td>\n",
              "      <td>0.266332</td>\n",
              "      <td>-0.006583</td>\n",
              "      <td>0.063747</td>\n",
              "      <td>0.103820</td>\n",
              "      <td>0.021601</td>\n",
              "      <td>0.023711</td>\n",
              "      <td>1.000000</td>\n",
              "      <td>0.401993</td>\n",
              "      <td>0.016652</td>\n",
              "      <td>0.082785</td>\n",
              "      <td>0.072080</td>\n",
              "      <td>0.080585</td>\n",
              "      <td>-0.026159</td>\n",
              "      <td>0.092950</td>\n",
              "      <td>0.030277</td>\n",
              "      <td>-0.014272</td>\n",
              "      <td>-0.041904</td>\n",
              "      <td>0.086469</td>\n",
              "      <td>0.030702</td>\n",
              "    </tr>\n",
              "    <tr>\n",
              "      <th>view</th>\n",
              "      <td>0.011785</td>\n",
              "      <td>0.397466</td>\n",
              "      <td>0.079433</td>\n",
              "      <td>0.187891</td>\n",
              "      <td>0.284641</td>\n",
              "      <td>0.074753</td>\n",
              "      <td>0.029325</td>\n",
              "      <td>0.401993</td>\n",
              "      <td>1.000000</td>\n",
              "      <td>0.045836</td>\n",
              "      <td>0.251378</td>\n",
              "      <td>0.167659</td>\n",
              "      <td>0.276996</td>\n",
              "      <td>-0.053229</td>\n",
              "      <td>0.103208</td>\n",
              "      <td>0.084838</td>\n",
              "      <td>0.006049</td>\n",
              "      <td>-0.078560</td>\n",
              "      <td>0.280404</td>\n",
              "      <td>0.072577</td>\n",
              "    </tr>\n",
              "    <tr>\n",
              "      <th>condition</th>\n",
              "      <td>-0.023686</td>\n",
              "      <td>0.036397</td>\n",
              "      <td>0.028422</td>\n",
              "      <td>-0.124940</td>\n",
              "      <td>-0.058768</td>\n",
              "      <td>-0.008967</td>\n",
              "      <td>-0.263779</td>\n",
              "      <td>0.016652</td>\n",
              "      <td>0.045836</td>\n",
              "      <td>1.000000</td>\n",
              "      <td>-0.144655</td>\n",
              "      <td>-0.158212</td>\n",
              "      <td>0.174071</td>\n",
              "      <td>-0.361347</td>\n",
              "      <td>-0.060862</td>\n",
              "      <td>0.002962</td>\n",
              "      <td>-0.014971</td>\n",
              "      <td>-0.106512</td>\n",
              "      <td>-0.092854</td>\n",
              "      <td>-0.003424</td>\n",
              "    </tr>\n",
              "    <tr>\n",
              "      <th>grade</th>\n",
              "      <td>0.008093</td>\n",
              "      <td>0.667478</td>\n",
              "      <td>0.357003</td>\n",
              "      <td>0.664990</td>\n",
              "      <td>0.762719</td>\n",
              "      <td>0.113644</td>\n",
              "      <td>0.458151</td>\n",
              "      <td>0.082785</td>\n",
              "      <td>0.251378</td>\n",
              "      <td>-0.144655</td>\n",
              "      <td>1.000000</td>\n",
              "      <td>0.755919</td>\n",
              "      <td>0.168443</td>\n",
              "      <td>0.446966</td>\n",
              "      <td>0.014372</td>\n",
              "      <td>-0.184795</td>\n",
              "      <td>0.114086</td>\n",
              "      <td>0.198347</td>\n",
              "      <td>0.713208</td>\n",
              "      <td>0.119265</td>\n",
              "    </tr>\n",
              "    <tr>\n",
              "      <th>sqft_above</th>\n",
              "      <td>-0.010857</td>\n",
              "      <td>0.605569</td>\n",
              "      <td>0.477619</td>\n",
              "      <td>0.685351</td>\n",
              "      <td>0.876600</td>\n",
              "      <td>0.183527</td>\n",
              "      <td>0.523874</td>\n",
              "      <td>0.072080</td>\n",
              "      <td>0.167659</td>\n",
              "      <td>-0.158212</td>\n",
              "      <td>0.755919</td>\n",
              "      <td>1.000000</td>\n",
              "      <td>-0.051923</td>\n",
              "      <td>0.423922</td>\n",
              "      <td>0.023233</td>\n",
              "      <td>-0.261163</td>\n",
              "      <td>-0.000823</td>\n",
              "      <td>0.343791</td>\n",
              "      <td>0.731870</td>\n",
              "      <td>0.194060</td>\n",
              "    </tr>\n",
              "    <tr>\n",
              "      <th>sqft_basement</th>\n",
              "      <td>-0.005084</td>\n",
              "      <td>0.323849</td>\n",
              "      <td>0.303077</td>\n",
              "      <td>0.283814</td>\n",
              "      <td>0.435054</td>\n",
              "      <td>0.015271</td>\n",
              "      <td>-0.245673</td>\n",
              "      <td>0.080585</td>\n",
              "      <td>0.276996</td>\n",
              "      <td>0.174071</td>\n",
              "      <td>0.168443</td>\n",
              "      <td>-0.051923</td>\n",
              "      <td>1.000000</td>\n",
              "      <td>-0.133062</td>\n",
              "      <td>0.071320</td>\n",
              "      <td>0.074781</td>\n",
              "      <td>0.110535</td>\n",
              "      <td>-0.144743</td>\n",
              "      <td>0.200367</td>\n",
              "      <td>0.017260</td>\n",
              "    </tr>\n",
              "    <tr>\n",
              "      <th>yr_built</th>\n",
              "      <td>0.021218</td>\n",
              "      <td>0.053980</td>\n",
              "      <td>0.154276</td>\n",
              "      <td>0.505997</td>\n",
              "      <td>0.318099</td>\n",
              "      <td>0.053105</td>\n",
              "      <td>0.489347</td>\n",
              "      <td>-0.026159</td>\n",
              "      <td>-0.053229</td>\n",
              "      <td>-0.361347</td>\n",
              "      <td>0.446966</td>\n",
              "      <td>0.423922</td>\n",
              "      <td>-0.133062</td>\n",
              "      <td>1.000000</td>\n",
              "      <td>-0.224729</td>\n",
              "      <td>-0.346808</td>\n",
              "      <td>-0.148099</td>\n",
              "      <td>0.409395</td>\n",
              "      <td>0.326298</td>\n",
              "      <td>0.070999</td>\n",
              "    </tr>\n",
              "    <tr>\n",
              "      <th>yr_renovated</th>\n",
              "      <td>-0.016688</td>\n",
              "      <td>0.126503</td>\n",
              "      <td>0.018695</td>\n",
              "      <td>0.050879</td>\n",
              "      <td>0.055314</td>\n",
              "      <td>0.007677</td>\n",
              "      <td>0.006156</td>\n",
              "      <td>0.092950</td>\n",
              "      <td>0.103208</td>\n",
              "      <td>-0.060862</td>\n",
              "      <td>0.014372</td>\n",
              "      <td>0.023233</td>\n",
              "      <td>0.071320</td>\n",
              "      <td>-0.224729</td>\n",
              "      <td>1.000000</td>\n",
              "      <td>0.064388</td>\n",
              "      <td>0.029271</td>\n",
              "      <td>-0.068594</td>\n",
              "      <td>-0.002841</td>\n",
              "      <td>0.007837</td>\n",
              "    </tr>\n",
              "    <tr>\n",
              "      <th>zipcode</th>\n",
              "      <td>-0.008129</td>\n",
              "      <td>-0.053162</td>\n",
              "      <td>-0.152721</td>\n",
              "      <td>-0.203831</td>\n",
              "      <td>-0.199435</td>\n",
              "      <td>-0.129611</td>\n",
              "      <td>-0.059025</td>\n",
              "      <td>0.030277</td>\n",
              "      <td>0.084838</td>\n",
              "      <td>0.002962</td>\n",
              "      <td>-0.184795</td>\n",
              "      <td>-0.261163</td>\n",
              "      <td>0.074781</td>\n",
              "      <td>-0.346808</td>\n",
              "      <td>0.064388</td>\n",
              "      <td>1.000000</td>\n",
              "      <td>0.267064</td>\n",
              "      <td>-0.564069</td>\n",
              "      <td>-0.279033</td>\n",
              "      <td>-0.147257</td>\n",
              "    </tr>\n",
              "    <tr>\n",
              "      <th>lat</th>\n",
              "      <td>-0.001861</td>\n",
              "      <td>0.306922</td>\n",
              "      <td>-0.008953</td>\n",
              "      <td>0.024590</td>\n",
              "      <td>0.052521</td>\n",
              "      <td>-0.085680</td>\n",
              "      <td>0.049593</td>\n",
              "      <td>-0.014272</td>\n",
              "      <td>0.006049</td>\n",
              "      <td>-0.014971</td>\n",
              "      <td>0.114086</td>\n",
              "      <td>-0.000823</td>\n",
              "      <td>0.110535</td>\n",
              "      <td>-0.148099</td>\n",
              "      <td>0.029271</td>\n",
              "      <td>0.267064</td>\n",
              "      <td>1.000000</td>\n",
              "      <td>-0.135545</td>\n",
              "      <td>0.048839</td>\n",
              "      <td>-0.086423</td>\n",
              "    </tr>\n",
              "    <tr>\n",
              "      <th>long</th>\n",
              "      <td>0.020776</td>\n",
              "      <td>0.021567</td>\n",
              "      <td>0.129474</td>\n",
              "      <td>0.223047</td>\n",
              "      <td>0.240221</td>\n",
              "      <td>0.229552</td>\n",
              "      <td>0.125343</td>\n",
              "      <td>-0.041904</td>\n",
              "      <td>-0.078560</td>\n",
              "      <td>-0.106512</td>\n",
              "      <td>0.198347</td>\n",
              "      <td>0.343791</td>\n",
              "      <td>-0.144743</td>\n",
              "      <td>0.409395</td>\n",
              "      <td>-0.068594</td>\n",
              "      <td>-0.564069</td>\n",
              "      <td>-0.135545</td>\n",
              "      <td>1.000000</td>\n",
              "      <td>0.334592</td>\n",
              "      <td>0.254475</td>\n",
              "    </tr>\n",
              "    <tr>\n",
              "      <th>sqft_living15</th>\n",
              "      <td>-0.002869</td>\n",
              "      <td>0.585382</td>\n",
              "      <td>0.391633</td>\n",
              "      <td>0.568665</td>\n",
              "      <td>0.756420</td>\n",
              "      <td>0.144620</td>\n",
              "      <td>0.279861</td>\n",
              "      <td>0.086469</td>\n",
              "      <td>0.280404</td>\n",
              "      <td>-0.092854</td>\n",
              "      <td>0.713208</td>\n",
              "      <td>0.731870</td>\n",
              "      <td>0.200367</td>\n",
              "      <td>0.326298</td>\n",
              "      <td>-0.002841</td>\n",
              "      <td>-0.279033</td>\n",
              "      <td>0.048839</td>\n",
              "      <td>0.334592</td>\n",
              "      <td>1.000000</td>\n",
              "      <td>0.183194</td>\n",
              "    </tr>\n",
              "    <tr>\n",
              "      <th>sqft_lot15</th>\n",
              "      <td>-0.138778</td>\n",
              "      <td>0.082457</td>\n",
              "      <td>0.029233</td>\n",
              "      <td>0.087191</td>\n",
              "      <td>0.183285</td>\n",
              "      <td>0.718556</td>\n",
              "      <td>-0.011250</td>\n",
              "      <td>0.030702</td>\n",
              "      <td>0.072577</td>\n",
              "      <td>-0.003424</td>\n",
              "      <td>0.119265</td>\n",
              "      <td>0.194060</td>\n",
              "      <td>0.017260</td>\n",
              "      <td>0.070999</td>\n",
              "      <td>0.007837</td>\n",
              "      <td>-0.147257</td>\n",
              "      <td>-0.086423</td>\n",
              "      <td>0.254475</td>\n",
              "      <td>0.183194</td>\n",
              "      <td>1.000000</td>\n",
              "    </tr>\n",
              "  </tbody>\n",
              "</table>\n",
              "</div>\n",
              "      <button class=\"colab-df-convert\" onclick=\"convertToInteractive('df-5230188d-2541-4bb1-996e-2b53c6d991a8')\"\n",
              "              title=\"Convert this dataframe to an interactive table.\"\n",
              "              style=\"display:none;\">\n",
              "        \n",
              "  <svg xmlns=\"http://www.w3.org/2000/svg\" height=\"24px\"viewBox=\"0 0 24 24\"\n",
              "       width=\"24px\">\n",
              "    <path d=\"M0 0h24v24H0V0z\" fill=\"none\"/>\n",
              "    <path d=\"M18.56 5.44l.94 2.06.94-2.06 2.06-.94-2.06-.94-.94-2.06-.94 2.06-2.06.94zm-11 1L8.5 8.5l.94-2.06 2.06-.94-2.06-.94L8.5 2.5l-.94 2.06-2.06.94zm10 10l.94 2.06.94-2.06 2.06-.94-2.06-.94-.94-2.06-.94 2.06-2.06.94z\"/><path d=\"M17.41 7.96l-1.37-1.37c-.4-.4-.92-.59-1.43-.59-.52 0-1.04.2-1.43.59L10.3 9.45l-7.72 7.72c-.78.78-.78 2.05 0 2.83L4 21.41c.39.39.9.59 1.41.59.51 0 1.02-.2 1.41-.59l7.78-7.78 2.81-2.81c.8-.78.8-2.07 0-2.86zM5.41 20L4 18.59l7.72-7.72 1.47 1.35L5.41 20z\"/>\n",
              "  </svg>\n",
              "      </button>\n",
              "      \n",
              "  <style>\n",
              "    .colab-df-container {\n",
              "      display:flex;\n",
              "      flex-wrap:wrap;\n",
              "      gap: 12px;\n",
              "    }\n",
              "\n",
              "    .colab-df-convert {\n",
              "      background-color: #E8F0FE;\n",
              "      border: none;\n",
              "      border-radius: 50%;\n",
              "      cursor: pointer;\n",
              "      display: none;\n",
              "      fill: #1967D2;\n",
              "      height: 32px;\n",
              "      padding: 0 0 0 0;\n",
              "      width: 32px;\n",
              "    }\n",
              "\n",
              "    .colab-df-convert:hover {\n",
              "      background-color: #E2EBFA;\n",
              "      box-shadow: 0px 1px 2px rgba(60, 64, 67, 0.3), 0px 1px 3px 1px rgba(60, 64, 67, 0.15);\n",
              "      fill: #174EA6;\n",
              "    }\n",
              "\n",
              "    [theme=dark] .colab-df-convert {\n",
              "      background-color: #3B4455;\n",
              "      fill: #D2E3FC;\n",
              "    }\n",
              "\n",
              "    [theme=dark] .colab-df-convert:hover {\n",
              "      background-color: #434B5C;\n",
              "      box-shadow: 0px 1px 3px 1px rgba(0, 0, 0, 0.15);\n",
              "      filter: drop-shadow(0px 1px 2px rgba(0, 0, 0, 0.3));\n",
              "      fill: #FFFFFF;\n",
              "    }\n",
              "  </style>\n",
              "\n",
              "      <script>\n",
              "        const buttonEl =\n",
              "          document.querySelector('#df-5230188d-2541-4bb1-996e-2b53c6d991a8 button.colab-df-convert');\n",
              "        buttonEl.style.display =\n",
              "          google.colab.kernel.accessAllowed ? 'block' : 'none';\n",
              "\n",
              "        async function convertToInteractive(key) {\n",
              "          const element = document.querySelector('#df-5230188d-2541-4bb1-996e-2b53c6d991a8');\n",
              "          const dataTable =\n",
              "            await google.colab.kernel.invokeFunction('convertToInteractive',\n",
              "                                                     [key], {});\n",
              "          if (!dataTable) return;\n",
              "\n",
              "          const docLinkHtml = 'Like what you see? Visit the ' +\n",
              "            '<a target=\"_blank\" href=https://colab.research.google.com/notebooks/data_table.ipynb>data table notebook</a>'\n",
              "            + ' to learn more about interactive tables.';\n",
              "          element.innerHTML = '';\n",
              "          dataTable['output_type'] = 'display_data';\n",
              "          await google.colab.output.renderOutput(dataTable, element);\n",
              "          const docLink = document.createElement('div');\n",
              "          docLink.innerHTML = docLinkHtml;\n",
              "          element.appendChild(docLink);\n",
              "        }\n",
              "      </script>\n",
              "    </div>\n",
              "  </div>\n",
              "  "
            ],
            "text/plain": [
              "                     id     price  ...  sqft_living15  sqft_lot15\n",
              "id             1.000000 -0.016803  ...      -0.002869   -0.138778\n",
              "price         -0.016803  1.000000  ...       0.585382    0.082457\n",
              "bedrooms       0.001354  0.308346  ...       0.391633    0.029233\n",
              "bathrooms      0.005093  0.525140  ...       0.568665    0.087191\n",
              "sqft_living   -0.012239  0.702046  ...       0.756420    0.183285\n",
              "sqft_lot      -0.132101  0.089658  ...       0.144620    0.718556\n",
              "floors         0.018482  0.256793  ...       0.279861   -0.011250\n",
              "waterfront    -0.002717  0.266332  ...       0.086469    0.030702\n",
              "view           0.011785  0.397466  ...       0.280404    0.072577\n",
              "condition     -0.023686  0.036397  ...      -0.092854   -0.003424\n",
              "grade          0.008093  0.667478  ...       0.713208    0.119265\n",
              "sqft_above    -0.010857  0.605569  ...       0.731870    0.194060\n",
              "sqft_basement -0.005084  0.323849  ...       0.200367    0.017260\n",
              "yr_built       0.021218  0.053980  ...       0.326298    0.070999\n",
              "yr_renovated  -0.016688  0.126503  ...      -0.002841    0.007837\n",
              "zipcode       -0.008129 -0.053162  ...      -0.279033   -0.147257\n",
              "lat           -0.001861  0.306922  ...       0.048839   -0.086423\n",
              "long           0.020776  0.021567  ...       0.334592    0.254475\n",
              "sqft_living15 -0.002869  0.585382  ...       1.000000    0.183194\n",
              "sqft_lot15    -0.138778  0.082457  ...       0.183194    1.000000\n",
              "\n",
              "[20 rows x 20 columns]"
            ]
          },
          "metadata": {},
          "execution_count": 26
        }
      ]
    },
    {
      "cell_type": "code",
      "source": [
        "# Plotting correlation using a heatmap\n",
        "fig,ax = plt.subplots(figsize=(20, 30))\n",
        "sns.heatmap(housing.corr(),annot=True)\n",
        "plt.show()"
      ],
      "metadata": {
        "colab": {
          "base_uri": "https://localhost:8080/",
          "height": 1000
        },
        "id": "gAWGqQnNvP6n",
        "outputId": "a0293eaf-c439-4e69-e59c-82a0bd8cd125"
      },
      "execution_count": null,
      "outputs": [
        {
          "output_type": "display_data",
          "data": {
            "image/png": "[encoded data removed]",
            "text/plain": [
              "<Figure size 1440x2160 with 2 Axes>"
            ]
          },
          "metadata": {
            "needs_background": "light"
          }
        }
      ]
    },
    {
      "cell_type": "markdown",
      "source": [
        "## c) Multivariate Analysis"
      ],
      "metadata": {
        "id": "l_vB_2MfyRHc"
      }
    },
    {
      "cell_type": "markdown",
      "source": [
        "we will use pca method"
      ],
      "metadata": {
        "id": "3mlXBDlN1fyH"
      }
    },
    {
      "cell_type": "code",
      "source": [
        "#Separating features and labels /preprocessing\n",
        "X = housing1[['bedrooms', 'bathrooms', 'sqft_living',\n",
        "       'floors', 'waterfront', 'view', 'grade', 'sqft_above',\n",
        "       'sqft_basement','sqft_living15','lat']].values\n",
        "y = housing1['price']"
      ],
      "metadata": {
        "id": "PBbuXAcnvP2X"
      },
      "execution_count": null,
      "outputs": []
    },
    {
      "cell_type": "code",
      "source": [
        "#Split the data into a training set and testing set.\n",
        "from sklearn.model_selection import train_test_split\n",
        "\n",
        "X_train, X_test, y_train, y_test = train_test_split(X, y, test_size=0.2, random_state=0)"
      ],
      "metadata": {
        "id": "McJ7CfspvP0Q"
      },
      "execution_count": null,
      "outputs": []
    },
    {
      "cell_type": "code",
      "source": [
        "print(X_train.shape)\n",
        "print(X_test.shape)\n",
        "print(y_train.shape)\n",
        "print(y_test.shape)"
      ],
      "metadata": {
        "colab": {
          "base_uri": "https://localhost:8080/"
        },
        "id": "-zzPebK1LiGn",
        "outputId": "36efa0ab-3912-473d-f0ad-1a4aa4b1bc8b"
      },
      "execution_count": null,
      "outputs": [
        {
          "output_type": "stream",
          "name": "stdout",
          "text": [
            "(11948, 11)\n",
            "(2987, 11)\n",
            "(11948,)\n",
            "(2987,)\n"
          ]
        }
      ]
    },
    {
      "cell_type": "code",
      "source": [
        "#standardizing the variables.\n",
        "from sklearn.preprocessing import StandardScaler\n",
        "\n",
        "scale = StandardScaler()\n",
        "X_train = scale.fit_transform(X_train)\n",
        "X_test = scale.transform(X_test)"
      ],
      "metadata": {
        "id": "icRc2toJvPwp"
      },
      "execution_count": null,
      "outputs": []
    },
    {
      "cell_type": "code",
      "source": [
        "# Implementing PCA\n",
        "from sklearn.decomposition import PCA\n",
        "\n",
        "pca = PCA()\n",
        "X_train = pca.fit_transform(X_train)\n",
        "X_test = pca.transform(X_test)"
      ],
      "metadata": {
        "id": "mTgycBCCvPu1"
      },
      "execution_count": null,
      "outputs": []
    },
    {
      "cell_type": "code",
      "source": [
        "# checking the explained variance\n",
        "explained_variance = pca.explained_variance_ratio_\n",
        "explained_variance"
      ],
      "metadata": {
        "colab": {
          "base_uri": "https://localhost:8080/"
        },
        "id": "kafLmHs-vPqd",
        "outputId": "ae544967-02b6-403f-e157-99e5dad101fe"
      },
      "execution_count": null,
      "outputs": [
        {
          "output_type": "execute_result",
          "data": {
            "text/plain": [
              "array([4.69581117e-01, 1.68470272e-01, 1.17833769e-01, 7.79150191e-02,\n",
              "       6.82802972e-02, 3.83886997e-02, 3.12640634e-02, 2.82667627e-02,\n",
              "       6.19689287e-33, 1.73831025e-34, 1.46917893e-36])"
            ]
          },
          "metadata": {},
          "execution_count": 32
        }
      ]
    },
    {
      "cell_type": "markdown",
      "source": [
        "# 7.Implementing the Solution"
      ],
      "metadata": {
        "id": "rRtSlVe15XkB"
      }
    },
    {
      "cell_type": "markdown",
      "source": [
        "Performing a normality test usinng shapiro"
      ],
      "metadata": {
        "id": "fi7HmLnuLbgv"
      }
    },
    {
      "cell_type": "code",
      "source": [
        "#Q-Q Plot for sqft_living\n",
        "from statsmodels.graphics.gofplots import qqplot\n",
        "from matplotlib import pyplot\n",
        "from scipy.stats import shapiro\n",
        "\n",
        "qqplot(housing1['sqft_living'], line='s')\n",
        "pyplot.show()\n",
        "stat, p = shapiro(housing1['sqft_living'])\n",
        "print('Statistics=%.4f, p=%.4f' %(stat, p))\n",
        "alpha = 0.05\n",
        "if p > alpha:\n",
        "\tprint('Sample looks Gaussian')\n",
        "else:\n",
        "\tprint('Sample does not look Gaussian')"
      ],
      "metadata": {
        "id": "o8_9Vvi_vPof",
        "colab": {
          "base_uri": "https://localhost:8080/",
          "height": 315
        },
        "outputId": "e047fce8-26ac-4e1c-d8fd-abadef996ef2"
      },
      "execution_count": null,
      "outputs": [
        {
          "output_type": "display_data",
          "data": {
            "image/png": "[encoded data removed]",
            "text/plain": [
              "<Figure size 432x288 with 1 Axes>"
            ]
          },
          "metadata": {
            "needs_background": "light"
          }
        },
        {
          "output_type": "stream",
          "name": "stdout",
          "text": [
            "Statistics=0.9755, p=0.0000\n",
            "Sample does not look Gaussian\n"
          ]
        }
      ]
    },
    {
      "cell_type": "code",
      "source": [
        "#Q-Q Plot for grade var\n",
        "\n",
        "qqplot(housing1['grade'], line='s')\n",
        "pyplot.show()\n",
        "stat, p = shapiro(housing1['grade'])\n",
        "print('Statistics=%.4f, p=%.4f' %(stat, p))\n",
        "alpha = 0.05\n",
        "if p > alpha:\n",
        "\tprint('Sample looks Gaussian')\n",
        "else:\n",
        "\tprint('Sample does not look Gaussian')"
      ],
      "metadata": {
        "colab": {
          "base_uri": "https://localhost:8080/",
          "height": 315
        },
        "id": "Sn0kwWjHLI4a",
        "outputId": "4428ae29-cea0-4795-ac3b-afe68baa76fa"
      },
      "execution_count": null,
      "outputs": [
        {
          "output_type": "display_data",
          "data": {
            "image/png": "[encoded data removed]",
            "text/plain": [
              "<Figure size 432x288 with 1 Axes>"
            ]
          },
          "metadata": {
            "needs_background": "light"
          }
        },
        {
          "output_type": "stream",
          "name": "stdout",
          "text": [
            "Statistics=0.8522, p=0.0000\n",
            "Sample does not look Gaussian\n"
          ]
        }
      ]
    },
    {
      "cell_type": "code",
      "source": [
        "#Q-Q Plot for sqft_above var\n",
        "\n",
        "qqplot(housing1['sqft_above'], line='s')\n",
        "pyplot.show()\n",
        "stat, p = shapiro(housing1['sqft_above'])\n",
        "print('Statistics=%.4f, p=%.4f' %(stat, p))\n",
        "alpha = 0.05\n",
        "if p > alpha:\n",
        "\tprint('Sample looks Gaussian')\n",
        "else:\n",
        "\tprint('Sample does not look Gaussian')"
      ],
      "metadata": {
        "colab": {
          "base_uri": "https://localhost:8080/",
          "height": 315
        },
        "id": "VrBQ2i7fLI2T",
        "outputId": "688aa151-5d1b-4d91-e3ea-3366b10239de"
      },
      "execution_count": null,
      "outputs": [
        {
          "output_type": "display_data",
          "data": {
            "image/png": "[encoded data removed]",
            "text/plain": [
              "<Figure size 432x288 with 1 Axes>"
            ]
          },
          "metadata": {
            "needs_background": "light"
          }
        },
        {
          "output_type": "stream",
          "name": "stdout",
          "text": [
            "Statistics=0.9264, p=0.0000\n",
            "Sample does not look Gaussian\n"
          ]
        }
      ]
    },
    {
      "cell_type": "markdown",
      "source": [
        "# Regression Analysis"
      ],
      "metadata": {
        "id": "DczDgsNuNETf"
      }
    },
    {
      "cell_type": "markdown",
      "source": [
        "## a) Multiple Linear Regression"
      ],
      "metadata": {
        "id": "jWEtu4HXNKgA"
      }
    },
    {
      "cell_type": "code",
      "source": [
        "check = housing[['bedrooms', 'bathrooms', 'sqft_living',\n",
        "       'floors', 'waterfront', 'view', 'grade', 'sqft_above',\n",
        "       'sqft_basement','sqft_living15','lat']]\n",
        "  # Let's display the correlations between the variables\n",
        "correlations = check.corr()\n",
        "\n",
        "correlations"
      ],
      "metadata": {
        "colab": {
          "base_uri": "https://localhost:8080/",
          "height": 458
        },
        "id": "pxin24C90sNm",
        "outputId": "0bc6c726-bd50-4f38-8c6d-808cd9c1496c"
      },
      "execution_count": null,
      "outputs": [
        {
          "output_type": "execute_result",
          "data": {
            "text/html": [
              "\n",
              "  <div id=\"df-50e52f4e-a2ed-49c4-93a1-2fbf88bda4ba\">\n",
              "    <div class=\"colab-df-container\">\n",
              "      <div>\n",
              "<style scoped>\n",
              "    .dataframe tbody tr th:only-of-type {\n",
              "        vertical-align: middle;\n",
              "    }\n",
              "\n",
              "    .dataframe tbody tr th {\n",
              "        vertical-align: top;\n",
              "    }\n",
              "\n",
              "    .dataframe thead th {\n",
              "        text-align: right;\n",
              "    }\n",
              "</style>\n",
              "<table border=\"1\" class=\"dataframe\">\n",
              "  <thead>\n",
              "    <tr style=\"text-align: right;\">\n",
              "      <th></th>\n",
              "      <th>bedrooms</th>\n",
              "      <th>bathrooms</th>\n",
              "      <th>sqft_living</th>\n",
              "      <th>floors</th>\n",
              "      <th>waterfront</th>\n",
              "      <th>view</th>\n",
              "      <th>grade</th>\n",
              "      <th>sqft_above</th>\n",
              "      <th>sqft_basement</th>\n",
              "      <th>sqft_living15</th>\n",
              "      <th>lat</th>\n",
              "    </tr>\n",
              "  </thead>\n",
              "  <tbody>\n",
              "    <tr>\n",
              "      <th>bedrooms</th>\n",
              "      <td>1.000000</td>\n",
              "      <td>0.515935</td>\n",
              "      <td>0.576674</td>\n",
              "      <td>0.175448</td>\n",
              "      <td>-0.006583</td>\n",
              "      <td>0.079433</td>\n",
              "      <td>0.357003</td>\n",
              "      <td>0.477619</td>\n",
              "      <td>0.303077</td>\n",
              "      <td>0.391633</td>\n",
              "      <td>-0.008953</td>\n",
              "    </tr>\n",
              "    <tr>\n",
              "      <th>bathrooms</th>\n",
              "      <td>0.515935</td>\n",
              "      <td>1.000000</td>\n",
              "      <td>0.754688</td>\n",
              "      <td>0.500669</td>\n",
              "      <td>0.063747</td>\n",
              "      <td>0.187891</td>\n",
              "      <td>0.664990</td>\n",
              "      <td>0.685351</td>\n",
              "      <td>0.283814</td>\n",
              "      <td>0.568665</td>\n",
              "      <td>0.024590</td>\n",
              "    </tr>\n",
              "    <tr>\n",
              "      <th>sqft_living</th>\n",
              "      <td>0.576674</td>\n",
              "      <td>0.754688</td>\n",
              "      <td>1.000000</td>\n",
              "      <td>0.353954</td>\n",
              "      <td>0.103820</td>\n",
              "      <td>0.284641</td>\n",
              "      <td>0.762719</td>\n",
              "      <td>0.876600</td>\n",
              "      <td>0.435054</td>\n",
              "      <td>0.756420</td>\n",
              "      <td>0.052521</td>\n",
              "    </tr>\n",
              "    <tr>\n",
              "      <th>floors</th>\n",
              "      <td>0.175448</td>\n",
              "      <td>0.500669</td>\n",
              "      <td>0.353954</td>\n",
              "      <td>1.000000</td>\n",
              "      <td>0.023711</td>\n",
              "      <td>0.029325</td>\n",
              "      <td>0.458151</td>\n",
              "      <td>0.523874</td>\n",
              "      <td>-0.245673</td>\n",
              "      <td>0.279861</td>\n",
              "      <td>0.049593</td>\n",
              "    </tr>\n",
              "    <tr>\n",
              "      <th>waterfront</th>\n",
              "      <td>-0.006583</td>\n",
              "      <td>0.063747</td>\n",
              "      <td>0.103820</td>\n",
              "      <td>0.023711</td>\n",
              "      <td>1.000000</td>\n",
              "      <td>0.401993</td>\n",
              "      <td>0.082785</td>\n",
              "      <td>0.072080</td>\n",
              "      <td>0.080585</td>\n",
              "      <td>0.086469</td>\n",
              "      <td>-0.014272</td>\n",
              "    </tr>\n",
              "    <tr>\n",
              "      <th>view</th>\n",
              "      <td>0.079433</td>\n",
              "      <td>0.187891</td>\n",
              "      <td>0.284641</td>\n",
              "      <td>0.029325</td>\n",
              "      <td>0.401993</td>\n",
              "      <td>1.000000</td>\n",
              "      <td>0.251378</td>\n",
              "      <td>0.167659</td>\n",
              "      <td>0.276996</td>\n",
              "      <td>0.280404</td>\n",
              "      <td>0.006049</td>\n",
              "    </tr>\n",
              "    <tr>\n",
              "      <th>grade</th>\n",
              "      <td>0.357003</td>\n",
              "      <td>0.664990</td>\n",
              "      <td>0.762719</td>\n",
              "      <td>0.458151</td>\n",
              "      <td>0.082785</td>\n",
              "      <td>0.251378</td>\n",
              "      <td>1.000000</td>\n",
              "      <td>0.755919</td>\n",
              "      <td>0.168443</td>\n",
              "      <td>0.713208</td>\n",
              "      <td>0.114086</td>\n",
              "    </tr>\n",
              "    <tr>\n",
              "      <th>sqft_above</th>\n",
              "      <td>0.477619</td>\n",
              "      <td>0.685351</td>\n",
              "      <td>0.876600</td>\n",
              "      <td>0.523874</td>\n",
              "      <td>0.072080</td>\n",
              "      <td>0.167659</td>\n",
              "      <td>0.755919</td>\n",
              "      <td>1.000000</td>\n",
              "      <td>-0.051923</td>\n",
              "      <td>0.731870</td>\n",
              "      <td>-0.000823</td>\n",
              "    </tr>\n",
              "    <tr>\n",
              "      <th>sqft_basement</th>\n",
              "      <td>0.303077</td>\n",
              "      <td>0.283814</td>\n",
              "      <td>0.435054</td>\n",
              "      <td>-0.245673</td>\n",
              "      <td>0.080585</td>\n",
              "      <td>0.276996</td>\n",
              "      <td>0.168443</td>\n",
              "      <td>-0.051923</td>\n",
              "      <td>1.000000</td>\n",
              "      <td>0.200367</td>\n",
              "      <td>0.110535</td>\n",
              "    </tr>\n",
              "    <tr>\n",
              "      <th>sqft_living15</th>\n",
              "      <td>0.391633</td>\n",
              "      <td>0.568665</td>\n",
              "      <td>0.756420</td>\n",
              "      <td>0.279861</td>\n",
              "      <td>0.086469</td>\n",
              "      <td>0.280404</td>\n",
              "      <td>0.713208</td>\n",
              "      <td>0.731870</td>\n",
              "      <td>0.200367</td>\n",
              "      <td>1.000000</td>\n",
              "      <td>0.048839</td>\n",
              "    </tr>\n",
              "    <tr>\n",
              "      <th>lat</th>\n",
              "      <td>-0.008953</td>\n",
              "      <td>0.024590</td>\n",
              "      <td>0.052521</td>\n",
              "      <td>0.049593</td>\n",
              "      <td>-0.014272</td>\n",
              "      <td>0.006049</td>\n",
              "      <td>0.114086</td>\n",
              "      <td>-0.000823</td>\n",
              "      <td>0.110535</td>\n",
              "      <td>0.048839</td>\n",
              "      <td>1.000000</td>\n",
              "    </tr>\n",
              "  </tbody>\n",
              "</table>\n",
              "</div>\n",
              "      <button class=\"colab-df-convert\" onclick=\"convertToInteractive('df-50e52f4e-a2ed-49c4-93a1-2fbf88bda4ba')\"\n",
              "              title=\"Convert this dataframe to an interactive table.\"\n",
              "              style=\"display:none;\">\n",
              "        \n",
              "  <svg xmlns=\"http://www.w3.org/2000/svg\" height=\"24px\"viewBox=\"0 0 24 24\"\n",
              "       width=\"24px\">\n",
              "    <path d=\"M0 0h24v24H0V0z\" fill=\"none\"/>\n",
              "    <path d=\"M18.56 5.44l.94 2.06.94-2.06 2.06-.94-2.06-.94-.94-2.06-.94 2.06-2.06.94zm-11 1L8.5 8.5l.94-2.06 2.06-.94-2.06-.94L8.5 2.5l-.94 2.06-2.06.94zm10 10l.94 2.06.94-2.06 2.06-.94-2.06-.94-.94-2.06-.94 2.06-2.06.94z\"/><path d=\"M17.41 7.96l-1.37-1.37c-.4-.4-.92-.59-1.43-.59-.52 0-1.04.2-1.43.59L10.3 9.45l-7.72 7.72c-.78.78-.78 2.05 0 2.83L4 21.41c.39.39.9.59 1.41.59.51 0 1.02-.2 1.41-.59l7.78-7.78 2.81-2.81c.8-.78.8-2.07 0-2.86zM5.41 20L4 18.59l7.72-7.72 1.47 1.35L5.41 20z\"/>\n",
              "  </svg>\n",
              "      </button>\n",
              "      \n",
              "  <style>\n",
              "    .colab-df-container {\n",
              "      display:flex;\n",
              "      flex-wrap:wrap;\n",
              "      gap: 12px;\n",
              "    }\n",
              "\n",
              "    .colab-df-convert {\n",
              "      background-color: #E8F0FE;\n",
              "      border: none;\n",
              "      border-radius: 50%;\n",
              "      cursor: pointer;\n",
              "      display: none;\n",
              "      fill: #1967D2;\n",
              "      height: 32px;\n",
              "      padding: 0 0 0 0;\n",
              "      width: 32px;\n",
              "    }\n",
              "\n",
              "    .colab-df-convert:hover {\n",
              "      background-color: #E2EBFA;\n",
              "      box-shadow: 0px 1px 2px rgba(60, 64, 67, 0.3), 0px 1px 3px 1px rgba(60, 64, 67, 0.15);\n",
              "      fill: #174EA6;\n",
              "    }\n",
              "\n",
              "    [theme=dark] .colab-df-convert {\n",
              "      background-color: #3B4455;\n",
              "      fill: #D2E3FC;\n",
              "    }\n",
              "\n",
              "    [theme=dark] .colab-df-convert:hover {\n",
              "      background-color: #434B5C;\n",
              "      box-shadow: 0px 1px 3px 1px rgba(0, 0, 0, 0.15);\n",
              "      filter: drop-shadow(0px 1px 2px rgba(0, 0, 0, 0.3));\n",
              "      fill: #FFFFFF;\n",
              "    }\n",
              "  </style>\n",
              "\n",
              "      <script>\n",
              "        const buttonEl =\n",
              "          document.querySelector('#df-50e52f4e-a2ed-49c4-93a1-2fbf88bda4ba button.colab-df-convert');\n",
              "        buttonEl.style.display =\n",
              "          google.colab.kernel.accessAllowed ? 'block' : 'none';\n",
              "\n",
              "        async function convertToInteractive(key) {\n",
              "          const element = document.querySelector('#df-50e52f4e-a2ed-49c4-93a1-2fbf88bda4ba');\n",
              "          const dataTable =\n",
              "            await google.colab.kernel.invokeFunction('convertToInteractive',\n",
              "                                                     [key], {});\n",
              "          if (!dataTable) return;\n",
              "\n",
              "          const docLinkHtml = 'Like what you see? Visit the ' +\n",
              "            '<a target=\"_blank\" href=https://colab.research.google.com/notebooks/data_table.ipynb>data table notebook</a>'\n",
              "            + ' to learn more about interactive tables.';\n",
              "          element.innerHTML = '';\n",
              "          dataTable['output_type'] = 'display_data';\n",
              "          await google.colab.output.renderOutput(dataTable, element);\n",
              "          const docLink = document.createElement('div');\n",
              "          docLink.innerHTML = docLinkHtml;\n",
              "          element.appendChild(docLink);\n",
              "        }\n",
              "      </script>\n",
              "    </div>\n",
              "  </div>\n",
              "  "
            ],
            "text/plain": [
              "               bedrooms  bathrooms  ...  sqft_living15       lat\n",
              "bedrooms       1.000000   0.515935  ...       0.391633 -0.008953\n",
              "bathrooms      0.515935   1.000000  ...       0.568665  0.024590\n",
              "sqft_living    0.576674   0.754688  ...       0.756420  0.052521\n",
              "floors         0.175448   0.500669  ...       0.279861  0.049593\n",
              "waterfront    -0.006583   0.063747  ...       0.086469 -0.014272\n",
              "view           0.079433   0.187891  ...       0.280404  0.006049\n",
              "grade          0.357003   0.664990  ...       0.713208  0.114086\n",
              "sqft_above     0.477619   0.685351  ...       0.731870 -0.000823\n",
              "sqft_basement  0.303077   0.283814  ...       0.200367  0.110535\n",
              "sqft_living15  0.391633   0.568665  ...       1.000000  0.048839\n",
              "lat           -0.008953   0.024590  ...       0.048839  1.000000\n",
              "\n",
              "[11 rows x 11 columns]"
            ]
          },
          "metadata": {},
          "execution_count": 86
        }
      ]
    },
    {
      "cell_type": "markdown",
      "source": [
        "from the table above shows us how each variable relates to another. The coefficient of 1 across the diagonal makes sense, as a variable is perfectly correlated to itself. "
      ],
      "metadata": {
        "id": "zeWQ24F61bmO"
      }
    },
    {
      "cell_type": "markdown",
      "source": [
        "Checking Multicolinearity"
      ],
      "metadata": {
        "id": "7UrkSFaG0pDQ"
      }
    },
    {
      "cell_type": "code",
      "source": [
        "#computing the vif score for the variables\n",
        "vif = pd.DataFrame(np.linalg.inv(correlations.values), index = correlations.index, columns=correlations.columns)\n",
        "vif"
      ],
      "metadata": {
        "colab": {
          "base_uri": "https://localhost:8080/",
          "height": 458
        },
        "id": "4qkMX-Pz1Vhp",
        "outputId": "f53e3026-d5e5-43d5-8174-412980750c5a"
      },
      "execution_count": null,
      "outputs": [
        {
          "output_type": "execute_result",
          "data": {
            "text/html": [
              "\n",
              "  <div id=\"df-3df7d294-11a2-4add-bbf6-ff3f37f01ece\">\n",
              "    <div class=\"colab-df-container\">\n",
              "      <div>\n",
              "<style scoped>\n",
              "    .dataframe tbody tr th:only-of-type {\n",
              "        vertical-align: middle;\n",
              "    }\n",
              "\n",
              "    .dataframe tbody tr th {\n",
              "        vertical-align: top;\n",
              "    }\n",
              "\n",
              "    .dataframe thead th {\n",
              "        text-align: right;\n",
              "    }\n",
              "</style>\n",
              "<table border=\"1\" class=\"dataframe\">\n",
              "  <thead>\n",
              "    <tr style=\"text-align: right;\">\n",
              "      <th></th>\n",
              "      <th>bedrooms</th>\n",
              "      <th>bathrooms</th>\n",
              "      <th>sqft_living</th>\n",
              "      <th>floors</th>\n",
              "      <th>waterfront</th>\n",
              "      <th>view</th>\n",
              "      <th>grade</th>\n",
              "      <th>sqft_above</th>\n",
              "      <th>sqft_basement</th>\n",
              "      <th>sqft_living15</th>\n",
              "      <th>lat</th>\n",
              "    </tr>\n",
              "  </thead>\n",
              "  <tbody>\n",
              "    <tr>\n",
              "      <th>bedrooms</th>\n",
              "      <td>1.620031</td>\n",
              "      <td>-0.409574</td>\n",
              "      <td>2.496368e-01</td>\n",
              "      <td>0.079398</td>\n",
              "      <td>0.062697</td>\n",
              "      <td>0.111656</td>\n",
              "      <td>0.330329</td>\n",
              "      <td>-1.094614e+00</td>\n",
              "      <td>-6.309615e-01</td>\n",
              "      <td>0.026876</td>\n",
              "      <td>0.036489</td>\n",
              "    </tr>\n",
              "    <tr>\n",
              "      <th>bathrooms</th>\n",
              "      <td>-0.409574</td>\n",
              "      <td>2.937329</td>\n",
              "      <td>-1.468235e+00</td>\n",
              "      <td>-0.849848</td>\n",
              "      <td>-0.000706</td>\n",
              "      <td>0.058091</td>\n",
              "      <td>-0.502793</td>\n",
              "      <td>2.426159e-01</td>\n",
              "      <td>-2.151566e-01</td>\n",
              "      <td>0.039724</td>\n",
              "      <td>0.122913</td>\n",
              "    </tr>\n",
              "    <tr>\n",
              "      <th>sqft_living</th>\n",
              "      <td>0.260997</td>\n",
              "      <td>-1.413947</td>\n",
              "      <td>2.247350e+14</td>\n",
              "      <td>-0.054518</td>\n",
              "      <td>0.315086</td>\n",
              "      <td>-0.874692</td>\n",
              "      <td>2.418306</td>\n",
              "      <td>-2.026257e+14</td>\n",
              "      <td>-1.082928e+14</td>\n",
              "      <td>2.189334</td>\n",
              "      <td>-0.348254</td>\n",
              "    </tr>\n",
              "    <tr>\n",
              "      <th>floors</th>\n",
              "      <td>0.079398</td>\n",
              "      <td>-0.849848</td>\n",
              "      <td>-1.069509e-02</td>\n",
              "      <td>1.841087</td>\n",
              "      <td>-0.008243</td>\n",
              "      <td>-0.023114</td>\n",
              "      <td>-0.386562</td>\n",
              "      <td>-3.285951e-01</td>\n",
              "      <td>6.705758e-01</td>\n",
              "      <td>0.336328</td>\n",
              "      <td>-0.116301</td>\n",
              "    </tr>\n",
              "    <tr>\n",
              "      <th>waterfront</th>\n",
              "      <td>0.062697</td>\n",
              "      <td>-0.000706</td>\n",
              "      <td>3.125282e-01</td>\n",
              "      <td>-0.008243</td>\n",
              "      <td>1.199201</td>\n",
              "      <td>-0.495010</td>\n",
              "      <td>0.043849</td>\n",
              "      <td>-3.890795e-01</td>\n",
              "      <td>-1.577881e-01</td>\n",
              "      <td>0.060600</td>\n",
              "      <td>0.013813</td>\n",
              "    </tr>\n",
              "    <tr>\n",
              "      <th>view</th>\n",
              "      <td>0.111656</td>\n",
              "      <td>0.058091</td>\n",
              "      <td>-8.819556e-01</td>\n",
              "      <td>-0.023114</td>\n",
              "      <td>-0.495010</td>\n",
              "      <td>1.376463</td>\n",
              "      <td>-0.146765</td>\n",
              "      <td>7.920235e-01</td>\n",
              "      <td>9.616305e-02</td>\n",
              "      <td>-0.240368</td>\n",
              "      <td>0.050325</td>\n",
              "    </tr>\n",
              "    <tr>\n",
              "      <th>grade</th>\n",
              "      <td>0.330329</td>\n",
              "      <td>-0.502793</td>\n",
              "      <td>2.319391e+00</td>\n",
              "      <td>-0.386562</td>\n",
              "      <td>0.043849</td>\n",
              "      <td>-0.146765</td>\n",
              "      <td>3.194724</td>\n",
              "      <td>-3.495544e+00</td>\n",
              "      <td>-1.547809e+00</td>\n",
              "      <td>-0.851574</td>\n",
              "      <td>-0.240610</td>\n",
              "    </tr>\n",
              "    <tr>\n",
              "      <th>sqft_above</th>\n",
              "      <td>-1.088542</td>\n",
              "      <td>0.195842</td>\n",
              "      <td>-2.026257e+14</td>\n",
              "      <td>-0.285614</td>\n",
              "      <td>-0.390523</td>\n",
              "      <td>0.782258</td>\n",
              "      <td>-3.583805</td>\n",
              "      <td>1.826915e+14</td>\n",
              "      <td>9.763902e+13</td>\n",
              "      <td>-3.566195</td>\n",
              "      <td>0.448920</td>\n",
              "    </tr>\n",
              "    <tr>\n",
              "      <th>sqft_basement</th>\n",
              "      <td>-0.626353</td>\n",
              "      <td>-0.245883</td>\n",
              "      <td>-1.082928e+14</td>\n",
              "      <td>0.695976</td>\n",
              "      <td>-0.158760</td>\n",
              "      <td>0.091086</td>\n",
              "      <td>-1.594345</td>\n",
              "      <td>9.763902e+13</td>\n",
              "      <td>5.218293e+13</td>\n",
              "      <td>-1.425243</td>\n",
              "      <td>0.012748</td>\n",
              "    </tr>\n",
              "    <tr>\n",
              "      <th>sqft_living15</th>\n",
              "      <td>0.026876</td>\n",
              "      <td>0.039724</td>\n",
              "      <td>2.229770e+00</td>\n",
              "      <td>0.336328</td>\n",
              "      <td>0.060600</td>\n",
              "      <td>-0.240368</td>\n",
              "      <td>-0.851574</td>\n",
              "      <td>-3.602654e+00</td>\n",
              "      <td>-1.444728e+00</td>\n",
              "      <td>2.782472</td>\n",
              "      <td>-0.014219</td>\n",
              "    </tr>\n",
              "    <tr>\n",
              "      <th>lat</th>\n",
              "      <td>0.036489</td>\n",
              "      <td>0.122913</td>\n",
              "      <td>-3.449754e-01</td>\n",
              "      <td>-0.116301</td>\n",
              "      <td>0.013813</td>\n",
              "      <td>0.050325</td>\n",
              "      <td>-0.240610</td>\n",
              "      <td>4.459645e-01</td>\n",
              "      <td>1.116824e-02</td>\n",
              "      <td>-0.014219</td>\n",
              "      <td>1.048361</td>\n",
              "    </tr>\n",
              "  </tbody>\n",
              "</table>\n",
              "</div>\n",
              "      <button class=\"colab-df-convert\" onclick=\"convertToInteractive('df-3df7d294-11a2-4add-bbf6-ff3f37f01ece')\"\n",
              "              title=\"Convert this dataframe to an interactive table.\"\n",
              "              style=\"display:none;\">\n",
              "        \n",
              "  <svg xmlns=\"http://www.w3.org/2000/svg\" height=\"24px\"viewBox=\"0 0 24 24\"\n",
              "       width=\"24px\">\n",
              "    <path d=\"M0 0h24v24H0V0z\" fill=\"none\"/>\n",
              "    <path d=\"M18.56 5.44l.94 2.06.94-2.06 2.06-.94-2.06-.94-.94-2.06-.94 2.06-2.06.94zm-11 1L8.5 8.5l.94-2.06 2.06-.94-2.06-.94L8.5 2.5l-.94 2.06-2.06.94zm10 10l.94 2.06.94-2.06 2.06-.94-2.06-.94-.94-2.06-.94 2.06-2.06.94z\"/><path d=\"M17.41 7.96l-1.37-1.37c-.4-.4-.92-.59-1.43-.59-.52 0-1.04.2-1.43.59L10.3 9.45l-7.72 7.72c-.78.78-.78 2.05 0 2.83L4 21.41c.39.39.9.59 1.41.59.51 0 1.02-.2 1.41-.59l7.78-7.78 2.81-2.81c.8-.78.8-2.07 0-2.86zM5.41 20L4 18.59l7.72-7.72 1.47 1.35L5.41 20z\"/>\n",
              "  </svg>\n",
              "      </button>\n",
              "      \n",
              "  <style>\n",
              "    .colab-df-container {\n",
              "      display:flex;\n",
              "      flex-wrap:wrap;\n",
              "      gap: 12px;\n",
              "    }\n",
              "\n",
              "    .colab-df-convert {\n",
              "      background-color: #E8F0FE;\n",
              "      border: none;\n",
              "      border-radius: 50%;\n",
              "      cursor: pointer;\n",
              "      display: none;\n",
              "      fill: #1967D2;\n",
              "      height: 32px;\n",
              "      padding: 0 0 0 0;\n",
              "      width: 32px;\n",
              "    }\n",
              "\n",
              "    .colab-df-convert:hover {\n",
              "      background-color: #E2EBFA;\n",
              "      box-shadow: 0px 1px 2px rgba(60, 64, 67, 0.3), 0px 1px 3px 1px rgba(60, 64, 67, 0.15);\n",
              "      fill: #174EA6;\n",
              "    }\n",
              "\n",
              "    [theme=dark] .colab-df-convert {\n",
              "      background-color: #3B4455;\n",
              "      fill: #D2E3FC;\n",
              "    }\n",
              "\n",
              "    [theme=dark] .colab-df-convert:hover {\n",
              "      background-color: #434B5C;\n",
              "      box-shadow: 0px 1px 3px 1px rgba(0, 0, 0, 0.15);\n",
              "      filter: drop-shadow(0px 1px 2px rgba(0, 0, 0, 0.3));\n",
              "      fill: #FFFFFF;\n",
              "    }\n",
              "  </style>\n",
              "\n",
              "      <script>\n",
              "        const buttonEl =\n",
              "          document.querySelector('#df-3df7d294-11a2-4add-bbf6-ff3f37f01ece button.colab-df-convert');\n",
              "        buttonEl.style.display =\n",
              "          google.colab.kernel.accessAllowed ? 'block' : 'none';\n",
              "\n",
              "        async function convertToInteractive(key) {\n",
              "          const element = document.querySelector('#df-3df7d294-11a2-4add-bbf6-ff3f37f01ece');\n",
              "          const dataTable =\n",
              "            await google.colab.kernel.invokeFunction('convertToInteractive',\n",
              "                                                     [key], {});\n",
              "          if (!dataTable) return;\n",
              "\n",
              "          const docLinkHtml = 'Like what you see? Visit the ' +\n",
              "            '<a target=\"_blank\" href=https://colab.research.google.com/notebooks/data_table.ipynb>data table notebook</a>'\n",
              "            + ' to learn more about interactive tables.';\n",
              "          element.innerHTML = '';\n",
              "          dataTable['output_type'] = 'display_data';\n",
              "          await google.colab.output.renderOutput(dataTable, element);\n",
              "          const docLink = document.createElement('div');\n",
              "          docLink.innerHTML = docLinkHtml;\n",
              "          element.appendChild(docLink);\n",
              "        }\n",
              "      </script>\n",
              "    </div>\n",
              "  </div>\n",
              "  "
            ],
            "text/plain": [
              "               bedrooms  bathrooms  ...  sqft_living15       lat\n",
              "bedrooms       1.620031  -0.409574  ...       0.026876  0.036489\n",
              "bathrooms     -0.409574   2.937329  ...       0.039724  0.122913\n",
              "sqft_living    0.260997  -1.413947  ...       2.189334 -0.348254\n",
              "floors         0.079398  -0.849848  ...       0.336328 -0.116301\n",
              "waterfront     0.062697  -0.000706  ...       0.060600  0.013813\n",
              "view           0.111656   0.058091  ...      -0.240368  0.050325\n",
              "grade          0.330329  -0.502793  ...      -0.851574 -0.240610\n",
              "sqft_above    -1.088542   0.195842  ...      -3.566195  0.448920\n",
              "sqft_basement -0.626353  -0.245883  ...      -1.425243  0.012748\n",
              "sqft_living15  0.026876   0.039724  ...       2.782472 -0.014219\n",
              "lat            0.036489   0.122913  ...      -0.014219  1.048361\n",
              "\n",
              "[11 rows x 11 columns]"
            ]
          },
          "metadata": {},
          "execution_count": 88
        }
      ]
    },
    {
      "cell_type": "code",
      "source": [
        "#visualizing the vif using a heatmap\n",
        "\n",
        "plt.figure(figsize = (12, 10))\n",
        "sns.heatmap(vif, annot = True)\n",
        "plt.show()"
      ],
      "metadata": {
        "colab": {
          "base_uri": "https://localhost:8080/",
          "height": 666
        },
        "id": "hEu_OfpZ3CAK",
        "outputId": "c490d4f6-2036-4d82-c4ac-08573fa32b08"
      },
      "execution_count": null,
      "outputs": [
        {
          "output_type": "display_data",
          "data": {
            "image/png": "[encoded data removed]",
            "text/plain": [
              "<Figure size 864x720 with 2 Axes>"
            ]
          },
          "metadata": {
            "needs_background": "light"
          }
        }
      ]
    },
    {
      "cell_type": "code",
      "source": [
        "#Separating features and labels /preprocessing\n",
        "X = housing1[['bedrooms', 'bathrooms', 'sqft_living',\n",
        "       'floors', 'waterfront', 'view', 'grade', 'sqft_above',\n",
        "       'sqft_basement','sqft_living15','lat']].values\n",
        "y = housing1['price']"
      ],
      "metadata": {
        "id": "_x6xQ3i-LIy5"
      },
      "execution_count": null,
      "outputs": []
    },
    {
      "cell_type": "code",
      "source": [
        "#Split the data into a training set and testing set.\n",
        "from sklearn.model_selection import train_test_split\n",
        "\n",
        "X_train, X_test, y_train, y_test = train_test_split(X, y, test_size=0.2, random_state=0)"
      ],
      "metadata": {
        "id": "9gelMIXQLIvY"
      },
      "execution_count": null,
      "outputs": []
    },
    {
      "cell_type": "code",
      "source": [
        "# Training the Algorithm\n",
        "from sklearn.linear_model import LinearRegression\n",
        "regressor = LinearRegression()\n",
        "regressor.fit(X_train, y_train)"
      ],
      "metadata": {
        "colab": {
          "base_uri": "https://localhost:8080/"
        },
        "id": "H-R6bTjqLItM",
        "outputId": "5eb5689b-058d-4e6d-dd92-ac3bbfbe8ee9"
      },
      "execution_count": null,
      "outputs": [
        {
          "output_type": "execute_result",
          "data": {
            "text/plain": [
              "LinearRegression()"
            ]
          },
          "metadata": {},
          "execution_count": 38
        }
      ]
    },
    {
      "cell_type": "code",
      "source": [
        "#Making Predictions\n",
        " \n",
        "y_pred = regressor.predict(X_test)"
      ],
      "metadata": {
        "id": "bIanhQuWLIpG"
      },
      "execution_count": null,
      "outputs": []
    },
    {
      "cell_type": "code",
      "source": [
        "# Evaluating the Algorithm\n",
        "\n",
        "from sklearn import metrics\n",
        "print('Mean Absolute Error:', metrics.mean_absolute_error(y_test, y_pred))\n",
        "print('Mean Squared Error:', metrics.mean_squared_error(y_test, y_pred))\n",
        "print('Root Mean Squared Error:', np.sqrt(metrics.mean_squared_error(y_test, y_pred)))"
      ],
      "metadata": {
        "colab": {
          "base_uri": "https://localhost:8080/"
        },
        "id": "WSaTZlajLInO",
        "outputId": "5c1dc16b-c618-4e39-f975-9e94d054853a"
      },
      "execution_count": null,
      "outputs": [
        {
          "output_type": "stream",
          "name": "stdout",
          "text": [
            "Mean Absolute Error: 87497.52154875983\n",
            "Mean Squared Error: 13765354568.589\n",
            "Root Mean Squared Error: 117325.8478281278\n"
          ]
        }
      ]
    },
    {
      "cell_type": "code",
      "source": [
        "residuals = np.subtract(y_pred, y_test)\n",
        "\n",
        "# Let's describe our residual:\n",
        "pd.DataFrame(residuals).describe()\n",
        "\n",
        "residuals.mean()"
      ],
      "metadata": {
        "colab": {
          "base_uri": "https://localhost:8080/"
        },
        "id": "MjeZrJfYPLCx",
        "outputId": "fa3bba22-1ba8-40a0-b622-951cd1280095"
      },
      "execution_count": null,
      "outputs": [
        {
          "output_type": "execute_result",
          "data": {
            "text/plain": [
              "1577.7446589566703"
            ]
          },
          "metadata": {},
          "execution_count": 41
        }
      ]
    },
    {
      "cell_type": "markdown",
      "source": [
        "Residual plot for the values"
      ],
      "metadata": {
        "id": "4d4qKCTwPrij"
      }
    },
    {
      "cell_type": "code",
      "source": [
        "import matplotlib.pyplot as plt\n",
        "\n",
        "plt.scatter(y_pred, residuals, color='black')\n",
        "plt.ylabel('residual')\n",
        "plt.xlabel('fitted values')\n",
        "plt.axhline(y= residuals.mean(), color='red', linewidth=1)\n",
        "plt.show()"
      ],
      "metadata": {
        "colab": {
          "base_uri": "https://localhost:8080/",
          "height": 283
        },
        "id": "xD1TBC7mPK_A",
        "outputId": "bc8fc723-0778-4df6-89c0-c41364087c69"
      },
      "execution_count": null,
      "outputs": [
        {
          "output_type": "display_data",
          "data": {
            "image/png": "[encoded data removed]",
            "text/plain": [
              "<Figure size 432x288 with 1 Axes>"
            ]
          },
          "metadata": {
            "needs_background": "light"
          }
        }
      ]
    },
    {
      "cell_type": "markdown",
      "source": [
        "the residuals are centered around a mean that is very close to 0"
      ],
      "metadata": {
        "id": "uGI05Jt5P40P"
      }
    },
    {
      "cell_type": "code",
      "source": [
        "#let's evaluate the performance of a linear regression model using r-squared\n",
        "from sklearn.metrics import r2_score\n",
        "score = r2_score(y_test, y_pred)\n",
        "score"
      ],
      "metadata": {
        "colab": {
          "base_uri": "https://localhost:8080/"
        },
        "id": "xLnfGQogPK7j",
        "outputId": "560e1a04-e051-4007-fbe5-fec2da70b76a"
      },
      "execution_count": null,
      "outputs": [
        {
          "output_type": "execute_result",
          "data": {
            "text/plain": [
              "0.5726689477690214"
            ]
          },
          "metadata": {},
          "execution_count": 43
        }
      ]
    },
    {
      "cell_type": "code",
      "source": [
        "# # Performing the barlett's test\n",
        "\n",
        "\n",
        "import scipy as sp\n",
        "test_result, p_value = sp.stats.bartlett(y_pred, residuals)\n",
        "# To interpret the results we must also compute a critical value of the chi squared distribution\n",
        "\n",
        "degree_of_freedom = len(y_pred)-1\n",
        "probability = 1 - p_value\n",
        "critical_value = sp.stats.chi2.ppf(probability, degree_of_freedom)\n",
        "print(critical_value)\n",
        "\n",
        "if (test_result > critical_value):\n",
        "  print('the variances are unequal, and the model should be reassessed')\n",
        "else:\n",
        "  print('the variances are homogeneous!')"
      ],
      "metadata": {
        "colab": {
          "base_uri": "https://localhost:8080/"
        },
        "id": "_XqiG3PVPK5W",
        "outputId": "3a20de12-98b3-491d-ce24-9e5a17f3e70c"
      },
      "execution_count": null,
      "outputs": [
        {
          "output_type": "stream",
          "name": "stdout",
          "text": [
            "3599.1957908132076\n",
            "the variances are homogeneous!\n"
          ]
        }
      ]
    },
    {
      "cell_type": "markdown",
      "source": [
        "## b) Quantile Regression"
      ],
      "metadata": {
        "id": "HE5Xgqr_SoOp"
      }
    },
    {
      "cell_type": "code",
      "source": [
        "quant = ['bedrooms', 'bathrooms', 'sqft_living',\n",
        "       'floors', 'waterfront', 'view', 'grade', 'sqft_above',\n",
        "       'sqft_basement','sqft_living15','lat']\n",
        "\n",
        "for i,colval in enumerate(quant):\n",
        "  X_quant = np.array(housing1[colval].values.reshape(-1,1))\n",
        "  y_quant = np.array(housing1['price'])\n",
        "\n",
        " # We will use the python package statsmodels for Quantile Regression\n",
        "#\n",
        "import statsmodels.formula.api as smf\n",
        "\n",
        "# Dividing our data into training and test sets\n",
        "# ---\n",
        "# \n",
        "from sklearn.model_selection import train_test_split\n",
        "X_quant_train, X_quant_test, y_quant_train, y_quant_test = train_test_split(X_quant, y_quant, test_size=0.2, random_state=10)\n",
        "# Finding the regression coefficients for the conditioned median, 0.5 quantile\n",
        "#\n",
        "mod = smf.quantreg('y_quant ~ X_quant', housing1)\n",
        "res = mod.fit(q=.5)\n",
        "\n",
        "# Then print out the summary of our model\n",
        "#\n",
        "print(res.summary())"
      ],
      "metadata": {
        "colab": {
          "base_uri": "https://localhost:8080/"
        },
        "id": "3aTw0C2EPK1Z",
        "outputId": "85d3e795-05ab-45bb-d463-29e914fa0973"
      },
      "execution_count": null,
      "outputs": [
        {
          "output_type": "stream",
          "name": "stdout",
          "text": [
            "                         QuantReg Regression Results                          \n",
            "==============================================================================\n",
            "Dep. Variable:                y_quant   Pseudo R-squared:               0.1680\n",
            "Model:                       QuantReg   Bandwidth:                   2.722e+04\n",
            "Method:                 Least Squares   Sparsity:                    3.268e+05\n",
            "Date:                Fri, 11 Feb 2022   No. Observations:                14935\n",
            "Time:                        16:42:45   Df Residuals:                    14933\n",
            "                                        Df Model:                            1\n",
            "==============================================================================\n",
            "                 coef    std err          t      P>|t|      [0.025      0.975]\n",
            "------------------------------------------------------------------------------\n",
            "Intercept  -2.746e+07   4.48e+05    -61.371      0.000   -2.83e+07   -2.66e+07\n",
            "X_quant     5.861e+05   9409.708     62.289      0.000    5.68e+05    6.05e+05\n",
            "==============================================================================\n",
            "\n",
            "The condition number is large, 1.59e+04. This might indicate that there are\n",
            "strong multicollinearity or other numerical problems.\n"
          ]
        },
        {
          "output_type": "stream",
          "name": "stderr",
          "text": [
            "/usr/local/lib/python3.7/dist-packages/statsmodels/regression/quantile_regression.py:192: IterationLimitWarning: Maximum number of iterations (1000) reached.\n",
            "  \") reached.\", IterationLimitWarning)\n"
          ]
        }
      ]
    },
    {
      "cell_type": "code",
      "source": [
        "quantile = np.arange(0.1,1,0.1) \n",
        "models = []\n",
        "params = []\n",
        "\n",
        "# We build models for each quantile in our list quantiles inside a for loop\n",
        "# As we build these models we also store the model parameters in a list called params. \n",
        "for qt in quantile: \n",
        "\tres = mod.fit(q = qt )\n",
        "\tmodels.append(res)\n",
        "\tparams.append([qt, res.params['Intercept'], res.params['X_quant']] + res.conf_int().loc['X_quant'].tolist())\n",
        "\n",
        "# Lastly we make a dataframe of the same name, so we we can view our different models.\n",
        "params = pd.DataFrame(data = params, columns = ['qt', 'intercept', 'x_coef', 'cf_lower_bound', 'cf_upper_bound'])\n",
        "print(params)"
      ],
      "metadata": {
        "colab": {
          "base_uri": "https://localhost:8080/"
        },
        "id": "oSe2wDFzPKyO",
        "outputId": "682bf399-4d59-41a7-b899-2453e68bb732"
      },
      "execution_count": null,
      "outputs": [
        {
          "output_type": "stream",
          "name": "stderr",
          "text": [
            "/usr/local/lib/python3.7/dist-packages/statsmodels/regression/quantile_regression.py:192: IterationLimitWarning: Maximum number of iterations (1000) reached.\n",
            "  \") reached.\", IterationLimitWarning)\n",
            "/usr/local/lib/python3.7/dist-packages/statsmodels/regression/quantile_regression.py:192: IterationLimitWarning: Maximum number of iterations (1000) reached.\n",
            "  \") reached.\", IterationLimitWarning)\n",
            "/usr/local/lib/python3.7/dist-packages/statsmodels/regression/quantile_regression.py:192: IterationLimitWarning: Maximum number of iterations (1000) reached.\n",
            "  \") reached.\", IterationLimitWarning)\n",
            "/usr/local/lib/python3.7/dist-packages/statsmodels/regression/quantile_regression.py:192: IterationLimitWarning: Maximum number of iterations (1000) reached.\n",
            "  \") reached.\", IterationLimitWarning)\n",
            "/usr/local/lib/python3.7/dist-packages/statsmodels/regression/quantile_regression.py:192: IterationLimitWarning: Maximum number of iterations (1000) reached.\n",
            "  \") reached.\", IterationLimitWarning)\n",
            "/usr/local/lib/python3.7/dist-packages/statsmodels/regression/quantile_regression.py:192: IterationLimitWarning: Maximum number of iterations (1000) reached.\n",
            "  \") reached.\", IterationLimitWarning)\n",
            "/usr/local/lib/python3.7/dist-packages/statsmodels/regression/quantile_regression.py:192: IterationLimitWarning: Maximum number of iterations (1000) reached.\n",
            "  \") reached.\", IterationLimitWarning)\n",
            "/usr/local/lib/python3.7/dist-packages/statsmodels/regression/quantile_regression.py:192: IterationLimitWarning: Maximum number of iterations (1000) reached.\n",
            "  \") reached.\", IterationLimitWarning)\n"
          ]
        },
        {
          "output_type": "stream",
          "name": "stdout",
          "text": [
            "    qt     intercept        x_coef  cf_lower_bound  cf_upper_bound\n",
            "0  0.1 -1.596010e+07  3.412218e+05    3.237200e+05    3.587236e+05\n",
            "1  0.2 -1.899291e+07  4.059041e+05    3.896120e+05    4.221961e+05\n",
            "2  0.3 -2.160825e+07  4.615982e+05    4.457577e+05    4.774386e+05\n",
            "3  0.4 -2.434667e+07  5.198441e+05    5.031005e+05    5.365876e+05\n",
            "4  0.5 -2.746476e+07  5.861183e+05    5.676741e+05    6.045624e+05\n",
            "5  0.6 -3.157611e+07  6.734007e+05    6.539000e+05    6.929014e+05\n",
            "6  0.7 -3.673835e+07  7.829408e+05    7.597643e+05    8.061173e+05\n",
            "7  0.8 -4.302124e+07  9.163498e+05    8.893946e+05    9.433050e+05\n",
            "8  0.9 -5.096186e+07  1.085158e+06    1.053655e+06    1.116662e+06\n"
          ]
        },
        {
          "output_type": "stream",
          "name": "stderr",
          "text": [
            "/usr/local/lib/python3.7/dist-packages/statsmodels/regression/quantile_regression.py:192: IterationLimitWarning: Maximum number of iterations (1000) reached.\n",
            "  \") reached.\", IterationLimitWarning)\n"
          ]
        }
      ]
    },
    {
      "cell_type": "code",
      "source": [
        "## Let's now trying to fit a linear regression\n",
        "\n",
        "mode = LinearRegression(fit_intercept = True, normalize = False)\n",
        "mode.fit(X_quant,y_quant)\n",
        "\n",
        "y_quant_predict = mode.predict(X_quant)\n",
        "\n",
        "\n",
        "print(\"Mean squared error: {0:.2f}\"\n",
        "    .format(np.mean((y_quant_predict - y_quant) ** 2)))\n",
        "print('Variance score: {0:.2f}'.format(mode.score(X_quant, y_quant)))\n",
        "\n",
        "# With a low variance score of 0.50, it means that our linear regression \n",
        "# did not do a good job. \n",
        "plt.figure(2)\n",
        "plt.scatter(X_quant, y_quant,  color='blue')\n",
        "plt.plot(X_quant, y_quant_predict, color='red',\n",
        "         linewidth=3)\n",
        "\n",
        "plt.xticks(())\n",
        "plt.yticks(())\n",
        "plt.xlabel(\"predictors\")\n",
        "plt.ylabel(\"price\")\n",
        "plt.title(\"predictors of price\")"
      ],
      "metadata": {
        "colab": {
          "base_uri": "https://localhost:8080/",
          "height": 333
        },
        "id": "5K43zQhmPKty",
        "outputId": "27eb8b28-4104-49fe-ecf1-b5cad69110d4"
      },
      "execution_count": null,
      "outputs": [
        {
          "output_type": "stream",
          "name": "stdout",
          "text": [
            "Mean squared error: 24762293916.00\n",
            "Variance score: 0.24\n"
          ]
        },
        {
          "output_type": "execute_result",
          "data": {
            "text/plain": [
              "Text(0.5, 1.0, 'predictors of price')"
            ]
          },
          "metadata": {},
          "execution_count": 47
        },
        {
          "output_type": "display_data",
          "data": {
            "image/png": "[encoded data removed]",
            "text/plain": [
              "<Figure size 432x288 with 1 Axes>"
            ]
          },
          "metadata": {}
        }
      ]
    },
    {
      "cell_type": "markdown",
      "source": [
        "The variance score is quite low"
      ],
      "metadata": {
        "id": "MpZbEGYkXdrM"
      }
    },
    {
      "cell_type": "code",
      "source": [
        "## Plot the changes in the quantile coeffiecients\n",
        "# \n",
        "plt.figure(6)\n",
        "params.plot(x = 'qt', y = ['x_coef','cf_lower_bound', 'cf_upper_bound'], \n",
        "            title = 'Slope for different quantiles', kind ='line', style = ['b-','r--','g--'])\n",
        "\n",
        "plt.show()"
      ],
      "metadata": {
        "colab": {
          "base_uri": "https://localhost:8080/",
          "height": 314
        },
        "id": "61Y6InPxPKr9",
        "outputId": "dae60ce5-72d5-4f4d-e1b9-5a04bdf0f99b"
      },
      "execution_count": null,
      "outputs": [
        {
          "output_type": "display_data",
          "data": {
            "text/plain": [
              "<Figure size 432x288 with 0 Axes>"
            ]
          },
          "metadata": {}
        },
        {
          "output_type": "display_data",
          "data": {
            "image/png": "[encoded data removed]",
            "text/plain": [
              "<Figure size 432x288 with 1 Axes>"
            ]
          },
          "metadata": {
            "needs_background": "light"
          }
        }
      ]
    },
    {
      "cell_type": "markdown",
      "source": [
        "The Mean squared error of our quantile regression is 24762293916.00 which is higher than our linear regression 13765354568.589. Hence our linear model performed better than our quantile model"
      ],
      "metadata": {
        "id": "I2Lt5vlzYXHM"
      }
    },
    {
      "cell_type": "markdown",
      "source": [
        "## c) Ridge Regression"
      ],
      "metadata": {
        "id": "zY6DY1bhZBcq"
      }
    },
    {
      "cell_type": "code",
      "source": [
        "# Importing our libraries\n",
        "# \n",
        "from sklearn.model_selection import GridSearchCV\n",
        "from sklearn.linear_model import Ridge\n",
        "from sklearn.metrics import mean_squared_error"
      ],
      "metadata": {
        "id": "yVlro0ljXu4S"
      },
      "execution_count": null,
      "outputs": []
    },
    {
      "cell_type": "code",
      "source": [
        "X_ridge = housing1[['bedrooms', 'bathrooms', 'sqft_living',\n",
        "       'floors', 'waterfront', 'view', 'grade', 'sqft_above',\n",
        "       'sqft_basement','sqft_living15','lat']].values\n",
        "y_ridge = housing1['price']"
      ],
      "metadata": {
        "id": "phphSxkcXu1d"
      },
      "execution_count": null,
      "outputs": []
    },
    {
      "cell_type": "code",
      "source": [
        "# Splitting the dataset into training and testing sets\n",
        "#\n",
        "X_ridge_train, X_ridge_test, y_ridge_train, y_ridge_test = train_test_split(X_ridge,y_ridge, test_size = 0.2, random_state = 10)\n",
        "scale = StandardScaler()\n",
        "x = scale.fit_transform(X_ridge_train)"
      ],
      "metadata": {
        "id": "MoEI-ud7Xuws"
      },
      "execution_count": null,
      "outputs": []
    },
    {
      "cell_type": "code",
      "source": [
        "# determining the most appropriate value for the l2 regularization.\n",
        " \n",
        "ridg = Ridge(normalize=True)\n",
        "searching = GridSearchCV(estimator=ridg,param_grid={'alpha':np.logspace(-5,2,8)},scoring='neg_mean_squared_error',n_jobs=1,refit=True,cv=10)"
      ],
      "metadata": {
        "id": "3Wc7ya4qXuuu"
      },
      "execution_count": null,
      "outputs": []
    },
    {
      "cell_type": "code",
      "source": [
        "searching.fit(X_ridge_train,y_ridge_train)\n",
        "print(searching.best_params_)\n",
        "abs(searching.best_score_)"
      ],
      "metadata": {
        "colab": {
          "base_uri": "https://localhost:8080/"
        },
        "id": "xilRuWIbah9m",
        "outputId": "39850264-d73f-4c50-d1ad-042d6fb12711"
      },
      "execution_count": null,
      "outputs": [
        {
          "output_type": "stream",
          "name": "stdout",
          "text": [
            "{'alpha': 0.001}\n"
          ]
        },
        {
          "output_type": "execute_result",
          "data": {
            "text/plain": [
              "13967457426.77558"
            ]
          },
          "metadata": {},
          "execution_count": 53
        }
      ]
    },
    {
      "cell_type": "code",
      "source": [
        "# We can confirm this by fitting our model with the ridge information and finding the\n",
        "# mean squared error below\n",
        "#\n",
        "ridge = Ridge(normalize=True,alpha=0.01)\n",
        "ridge.fit(X_ridge_train,y_ridge_train)\n",
        "ridg_model = (mean_squared_error(y_true=y_ridge_train,y_pred=ridge.predict(X_ridge_train)))\n",
        "print(ridg_model)"
      ],
      "metadata": {
        "colab": {
          "base_uri": "https://localhost:8080/"
        },
        "id": "-xNN9y3rah6L",
        "outputId": "40e7c959-f6e0-45d3-a784-e64c6c32c602"
      },
      "execution_count": null,
      "outputs": [
        {
          "output_type": "stream",
          "name": "stdout",
          "text": [
            "13944491521.83972\n"
          ]
        }
      ]
    },
    {
      "cell_type": "markdown",
      "source": [
        "The ridge regression model gives us a mean squared error of 13944491521.83972 with an alpha of 0.001 but our best score was 13967457426.77558 which performed better than linear and quantile regression"
      ],
      "metadata": {
        "id": "KDnvs34Acftm"
      }
    },
    {
      "cell_type": "markdown",
      "source": [
        "## d) Lasso Regression"
      ],
      "metadata": {
        "id": "Gyv_PH96pFtg"
      }
    },
    {
      "cell_type": "code",
      "source": [
        "# Loading our libraries\n",
        "#\n",
        "from sklearn.linear_model import Lasso\n",
        "from sklearn.preprocessing import StandardScaler\n",
        "from sklearn import linear_model"
      ],
      "metadata": {
        "id": "k2BBhhTnah2D"
      },
      "execution_count": null,
      "outputs": []
    },
    {
      "cell_type": "code",
      "source": [
        "X_lasso = housing1[['bedrooms', 'bathrooms', 'sqft_living',\n",
        "       'floors', 'waterfront', 'view', 'grade', 'sqft_above',\n",
        "       'sqft_basement','sqft_living15','lat']].values\n",
        "y_lasso = housing1['price']"
      ],
      "metadata": {
        "id": "iupLjgHyahyg"
      },
      "execution_count": null,
      "outputs": []
    },
    {
      "cell_type": "code",
      "source": [
        "# Scaling data \n",
        "#\n",
        "scaler = StandardScaler()\n",
        "scaler.fit(X_lasso)\n",
        "x_scale = scaler.transform(X_lasso)"
      ],
      "metadata": {
        "id": "2y_qwimhahwL"
      },
      "execution_count": null,
      "outputs": []
    },
    {
      "cell_type": "code",
      "source": [
        "# Creating lasso object\n",
        "# \n",
        "lasso = linear_model.Lasso() \n",
        "\n",
        "# Fitting the models\n",
        "# \n",
        "lasso.fit(X_lasso, y_lasso) \n",
        "\n",
        "# Print scores, MSE, and coefficients\n",
        "# \n",
        "print(\"lasso score:\", lasso.score(X_lasso, y_lasso)) \n",
        "print(\"lasso MSE:\", mean_squared_error(y_lasso, lasso.predict(X_lasso))) \n",
        "print(\"lasso coef:\", lasso.coef_)"
      ],
      "metadata": {
        "colab": {
          "base_uri": "https://localhost:8080/"
        },
        "id": "Ta8JUfxbqy9Z",
        "outputId": "89a0cdc2-3dc4-462e-fbab-1a8e86d54b69"
      },
      "execution_count": null,
      "outputs": [
        {
          "output_type": "stream",
          "name": "stdout",
          "text": [
            "lasso score: 0.5739894043661292\n",
            "lasso MSE: 13890014589.317215\n",
            "lasso coef: [-5.54665881e+03 -1.97356997e+04  1.46901808e+02  7.86172515e+03\n",
            "  0.00000000e+00  0.00000000e+00  6.21835831e+04 -5.47243508e+01\n",
            " -2.55260037e+01  3.75318322e+01  6.00025993e+05]\n"
          ]
        }
      ]
    },
    {
      "cell_type": "code",
      "source": [
        "from sklearn.model_selection import GridSearchCV\n",
        "\n",
        "\n",
        "X_lasso_train, X_lasso_test, y_lasso_train, y_lasso_test = train_test_split(X_lasso, y_lasso, test_size=0.25, random_state=101)\n",
        "parameters = {'alpha': np.concatenate((np.arange(0.1,2,0.1), np.arange(2, 5, 0.5), np.arange(5, 25, 1)))}\n",
        "\n",
        "linear = linear_model.LinearRegression()\n",
        "lasso = linear_model.Lasso() \n",
        "gridlasso = GridSearchCV(lasso, parameters, scoring ='r2') \n",
        "\n",
        "# Fitting models and print the best parameters, R-squared scores, MSE, and coefficients\n",
        "gridlasso.fit(X_lasso_train, y_lasso_train) \n",
        "linear.fit(X_lasso_train, y_lasso_train) \n",
        "print(\"lasso best parameters:\", gridlasso.best_params_) \n",
        "print(\"lasso score:\", gridlasso.score(X_lasso_test, y_lasso_test))\n",
        "print(\"linear score:\", linear.score(X_lasso_test, y_lasso_test)) \n",
        "print(\"lasso MSE:\", mean_squared_error(y_lasso_test, gridlasso.predict(X_lasso_test)))\n",
        "print(\"linear MSE:\", mean_squared_error(y_lasso_test, linear.predict(X_lasso_test))) \n",
        "print(\"lasso best estimator coef:\", gridlasso.best_estimator_.coef_)\n",
        "print(\"linear coef:\", linear.coef_)"
      ],
      "metadata": {
        "colab": {
          "base_uri": "https://localhost:8080/"
        },
        "id": "yyRMoUxYqy4h",
        "outputId": "ffcab551-013e-4137-92a4-6e8f5601f0d8"
      },
      "execution_count": null,
      "outputs": [
        {
          "output_type": "stream",
          "name": "stdout",
          "text": [
            "lasso best parameters: {'alpha': 0.1}\n",
            "lasso score: 0.564734979648017\n",
            "linear score: 0.5646239063155363\n",
            "lasso MSE: 14500958625.238535\n",
            "linear MSE: 14504659059.969923\n",
            "lasso best estimator coef: [-5.16471608e+03 -2.16412387e+04  1.46523177e+02  1.11908933e+04\n",
            "  0.00000000e+00  0.00000000e+00  6.13252541e+04 -5.58512331e+01\n",
            " -2.39449633e+01  3.81992330e+01  6.01023135e+05]\n",
            "linear coef: [-5.75179458e+03 -2.15140612e+04 -9.84061777e+14  1.15257350e+04\n",
            "  3.00947800e+08 -2.11785712e+08  6.13563985e+04  9.84061777e+14\n",
            "  9.84061777e+14  3.80662551e+01  6.01048092e+05]\n"
          ]
        }
      ]
    },
    {
      "cell_type": "code",
      "source": [
        "coefsLasso = [] \n",
        "\n",
        "# Building Lasso for 300 values of alpha and write the coefficients into array\n",
        "# \n",
        "alphasLasso = np.arange (0, 30, 0.1) \n",
        "for i in range(300):\n",
        "    lasso = linear_model.Lasso(alpha=alphasLasso[i])\n",
        "    lasso.fit(X_lasso_train, y_lasso_train)\n",
        "    coefsLasso.append(lasso.coef_) \n",
        "\n",
        "# Building Lasso coefficient plots\n",
        "# \n",
        "plt.figure(figsize = (16,7))\n",
        "\n",
        "plt.subplot(121)\n",
        "plt.plot(alphasLasso, coefsLasso)\n",
        "plt.title('Lasso coefficients')\n",
        "plt.xlabel('alpha')\n",
        "plt.ylabel('coefs')\n",
        "\n",
        "plt.show()\n"
      ],
      "metadata": {
        "colab": {
          "base_uri": "https://localhost:8080/",
          "height": 458
        },
        "id": "JmyH3E5_qy0x",
        "outputId": "8848a321-69ab-4c35-d3a3-99f2d9f8870f"
      },
      "execution_count": null,
      "outputs": [
        {
          "output_type": "display_data",
          "data": {
            "image/png": "[encoded data removed]",
            "text/plain": [
              "<Figure size 1152x504 with 1 Axes>"
            ]
          },
          "metadata": {
            "needs_background": "light"
          }
        }
      ]
    },
    {
      "cell_type": "markdown",
      "source": [
        "Lasso has reduced most coeficients to zero \n",
        "\n",
        "The lasso regression model gives a mean squared error of 13944491521.83972 which is slightly higher compared to ridge regression."
      ],
      "metadata": {
        "id": "VQCGkEySt1A0"
      }
    },
    {
      "cell_type": "markdown",
      "source": [
        "## e) Elastic Net Regression"
      ],
      "metadata": {
        "id": "iO41--l0vo5K"
      }
    },
    {
      "cell_type": "code",
      "source": [
        "from sklearn.linear_model import ElasticNet\n",
        "elastic=ElasticNet(normalize=True)\n",
        "elas_search=GridSearchCV(estimator=elastic,param_grid={'alpha':np.logspace(-5,2,8),'l1_ratio':[.2,.4,.6,.8]},scoring='neg_mean_squared_error',n_jobs=1,refit=True,cv=10)"
      ],
      "metadata": {
        "id": "44on1NKkqyyj"
      },
      "execution_count": null,
      "outputs": []
    },
    {
      "cell_type": "code",
      "source": [
        "X_elast = housing1[['bedrooms', 'bathrooms', 'sqft_living',\n",
        "       'floors', 'waterfront', 'view', 'grade', 'sqft_above',\n",
        "       'sqft_basement','sqft_living15','lat']]\n",
        "y_elast = housing1['price']"
      ],
      "metadata": {
        "id": "-rDIOaSVxsjX"
      },
      "execution_count": null,
      "outputs": []
    },
    {
      "cell_type": "code",
      "source": [
        "# We will now fit our model and display the best parameters and the best results we can get with that setup.\n",
        "# \n",
        "elas_search.fit(X_elast,y_elast)\n",
        "elas_search.best_params_\n",
        "abs(elas_search.best_score_)"
      ],
      "metadata": {
        "colab": {
          "base_uri": "https://localhost:8080/"
        },
        "id": "jN69EQRiqyuM",
        "outputId": "85a847e0-d21d-4975-fd1c-18d88320c978"
      },
      "execution_count": null,
      "outputs": [
        {
          "output_type": "execute_result",
          "data": {
            "text/plain": [
              "13935059126.475891"
            ]
          },
          "metadata": {},
          "execution_count": 81
        }
      ]
    },
    {
      "cell_type": "code",
      "source": [
        "elastic=ElasticNet(normalize=True,alpha=0.001,l1_ratio=0.75)\n",
        "elastic.fit(X_elast,y_elast)\n",
        "second_model=(mean_squared_error(y_true=y_elast,y_pred=elastic.predict(X_elast)))\n",
        "print(second_model)"
      ],
      "metadata": {
        "colab": {
          "base_uri": "https://localhost:8080/"
        },
        "id": "gb-39Rw6qysG",
        "outputId": "2f38f30e-80fb-4388-816f-dd37b96d3107"
      },
      "execution_count": null,
      "outputs": [
        {
          "output_type": "stream",
          "name": "stdout",
          "text": [
            "22069742161.789482\n"
          ]
        }
      ]
    },
    {
      "cell_type": "code",
      "source": [
        "# Below are the coefficients\n",
        "# \n",
        "coef_dict_baseline = {}\n",
        "for coef, feat in zip(elastic.coef_,X_elast.columns):\n",
        "    coef_dict_baseline[feat] = coef\n",
        "coef_dict_baseline"
      ],
      "metadata": {
        "colab": {
          "base_uri": "https://localhost:8080/"
        },
        "id": "DPAnEPn5wtFo",
        "outputId": "a38b542c-772b-42ab-e152-22467f3a5585"
      },
      "execution_count": null,
      "outputs": [
        {
          "output_type": "execute_result",
          "data": {
            "text/plain": [
              "{'bathrooms': 9759.928361672093,\n",
              " 'bedrooms': 5293.4662546355075,\n",
              " 'floors': 8165.707898572751,\n",
              " 'grade': 17646.277998609392,\n",
              " 'lat': 132488.7896114823,\n",
              " 'sqft_above': 14.806645028914177,\n",
              " 'sqft_basement': 18.520703934171316,\n",
              " 'sqft_living': 20.294872185452256,\n",
              " 'sqft_living15': 21.2979203797414,\n",
              " 'view': 0.0,\n",
              " 'waterfront': 0.0}"
            ]
          },
          "metadata": {},
          "execution_count": 82
        }
      ]
    },
    {
      "cell_type": "markdown",
      "source": [
        "The coeficients for the different variables are varying"
      ],
      "metadata": {
        "id": "3mJ2OjMFzFtn"
      }
    },
    {
      "cell_type": "markdown",
      "source": [
        "# 8.Challenging the solution"
      ],
      "metadata": {
        "id": "sNZ1_3ZI7SDG"
      }
    },
    {
      "cell_type": "markdown",
      "source": [
        "Conclusion"
      ],
      "metadata": {
        "id": "frZhrhj59QFG"
      }
    },
    {
      "cell_type": "markdown",
      "source": [
        "\n",
        "From the above analysis we conclude that ridge regression model performed better than all the other models implemented.\n",
        "I would recommend Ridge model for the analysis and prediction of house prices for Hass company."
      ],
      "metadata": {
        "id": "0aNDpDZN7J6G"
      }
    }
  ]
}